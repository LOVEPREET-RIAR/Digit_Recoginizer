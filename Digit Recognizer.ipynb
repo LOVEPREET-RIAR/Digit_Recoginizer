{
 "cells": [
  {
   "cell_type": "markdown",
   "id": "e268a4c0",
   "metadata": {},
   "source": [
    "# Digit Recognizer"
   ]
  },
  {
   "cell_type": "code",
   "execution_count": null,
   "id": "0b6d3f92",
   "metadata": {},
   "outputs": [],
   "source": []
  },
  {
   "cell_type": "markdown",
   "id": "8032a3f0",
   "metadata": {},
   "source": [
    "### Competition Description\n",
    "MNIST (*Modified National Institute of Standards and Technology*) is the de facto “hello world” dataset of computer vision. Since its release in 1999, this classic dataset of handwritten images has served as the basis for benchmarking classification algorithms. As new machine learning techniques emerge, MNIST remains a reliable resource for researchers and learners alike.\n",
    "\n",
    "In this competition, our goal is to correctly identify digits from a dataset of tens of thousands of handwritten images. We will experiment with different algorithms to learn first-hand what works well and how techniques compare."
   ]
  },
  {
   "cell_type": "code",
   "execution_count": null,
   "id": "cc2ddf36",
   "metadata": {},
   "outputs": [],
   "source": []
  },
  {
   "cell_type": "markdown",
   "id": "3625609c",
   "metadata": {},
   "source": [
    "### Plan:\n",
    "1. Data Ingestion and Split\n",
    "2. EDA\n",
    "3. Data Cleaning\n",
    "   * Dimensionality Reduction\n",
    "   * Normalization\n",
    "4. Data Pipelines\n",
    "5. Building and Training a Simple Classifier\n",
    "6. Evaluation\n",
    "   * Metrics (accuracy, precision, recall, f-score)\n",
    "   * Cross Validation (Bias-Variance tradeoff)\n",
    "   * Confusion Matrix (use heatmap for error analysis)\n",
    "7. Custom Function - code reuse\n",
    "8. Train Distinct ML Models\n",
    "   * Linear Classifier\n",
    "   * SVM Classifier\n",
    "   * Logistic Regression\n",
    "   * Random Forest\n",
    "   * XGBoost Classifier\n",
    "9. CNN\n",
    "10. Choosing The Best Model and Submit Predictions"
   ]
  },
  {
   "cell_type": "code",
   "execution_count": null,
   "id": "d4c75085",
   "metadata": {},
   "outputs": [],
   "source": []
  },
  {
   "cell_type": "markdown",
   "id": "d285744c",
   "metadata": {},
   "source": [
    "## 1. Data Ingestion and Split"
   ]
  },
  {
   "cell_type": "code",
   "execution_count": 1,
   "id": "af1ae48a",
   "metadata": {},
   "outputs": [],
   "source": [
    "# Lets import all the necessary libraries for this task first\n",
    "import numpy as np\n",
    "import pandas as pd\n",
    "import matplotlib.pyplot as plt\n",
    "%matplotlib inline"
   ]
  },
  {
   "cell_type": "code",
   "execution_count": 2,
   "id": "f68f2a4a",
   "metadata": {},
   "outputs": [],
   "source": [
    "data = pd.read_csv(\"train.csv\")"
   ]
  },
  {
   "cell_type": "code",
   "execution_count": 3,
   "id": "7579a26e",
   "metadata": {},
   "outputs": [
    {
     "data": {
      "text/html": [
       "<div>\n",
       "<style scoped>\n",
       "    .dataframe tbody tr th:only-of-type {\n",
       "        vertical-align: middle;\n",
       "    }\n",
       "\n",
       "    .dataframe tbody tr th {\n",
       "        vertical-align: top;\n",
       "    }\n",
       "\n",
       "    .dataframe thead th {\n",
       "        text-align: right;\n",
       "    }\n",
       "</style>\n",
       "<table border=\"1\" class=\"dataframe\">\n",
       "  <thead>\n",
       "    <tr style=\"text-align: right;\">\n",
       "      <th></th>\n",
       "      <th>label</th>\n",
       "      <th>pixel0</th>\n",
       "      <th>pixel1</th>\n",
       "      <th>pixel2</th>\n",
       "      <th>pixel3</th>\n",
       "      <th>pixel4</th>\n",
       "      <th>pixel5</th>\n",
       "      <th>pixel6</th>\n",
       "      <th>pixel7</th>\n",
       "      <th>pixel8</th>\n",
       "      <th>...</th>\n",
       "      <th>pixel774</th>\n",
       "      <th>pixel775</th>\n",
       "      <th>pixel776</th>\n",
       "      <th>pixel777</th>\n",
       "      <th>pixel778</th>\n",
       "      <th>pixel779</th>\n",
       "      <th>pixel780</th>\n",
       "      <th>pixel781</th>\n",
       "      <th>pixel782</th>\n",
       "      <th>pixel783</th>\n",
       "    </tr>\n",
       "  </thead>\n",
       "  <tbody>\n",
       "    <tr>\n",
       "      <th>0</th>\n",
       "      <td>1</td>\n",
       "      <td>0</td>\n",
       "      <td>0</td>\n",
       "      <td>0</td>\n",
       "      <td>0</td>\n",
       "      <td>0</td>\n",
       "      <td>0</td>\n",
       "      <td>0</td>\n",
       "      <td>0</td>\n",
       "      <td>0</td>\n",
       "      <td>...</td>\n",
       "      <td>0</td>\n",
       "      <td>0</td>\n",
       "      <td>0</td>\n",
       "      <td>0</td>\n",
       "      <td>0</td>\n",
       "      <td>0</td>\n",
       "      <td>0</td>\n",
       "      <td>0</td>\n",
       "      <td>0</td>\n",
       "      <td>0</td>\n",
       "    </tr>\n",
       "    <tr>\n",
       "      <th>1</th>\n",
       "      <td>0</td>\n",
       "      <td>0</td>\n",
       "      <td>0</td>\n",
       "      <td>0</td>\n",
       "      <td>0</td>\n",
       "      <td>0</td>\n",
       "      <td>0</td>\n",
       "      <td>0</td>\n",
       "      <td>0</td>\n",
       "      <td>0</td>\n",
       "      <td>...</td>\n",
       "      <td>0</td>\n",
       "      <td>0</td>\n",
       "      <td>0</td>\n",
       "      <td>0</td>\n",
       "      <td>0</td>\n",
       "      <td>0</td>\n",
       "      <td>0</td>\n",
       "      <td>0</td>\n",
       "      <td>0</td>\n",
       "      <td>0</td>\n",
       "    </tr>\n",
       "    <tr>\n",
       "      <th>2</th>\n",
       "      <td>1</td>\n",
       "      <td>0</td>\n",
       "      <td>0</td>\n",
       "      <td>0</td>\n",
       "      <td>0</td>\n",
       "      <td>0</td>\n",
       "      <td>0</td>\n",
       "      <td>0</td>\n",
       "      <td>0</td>\n",
       "      <td>0</td>\n",
       "      <td>...</td>\n",
       "      <td>0</td>\n",
       "      <td>0</td>\n",
       "      <td>0</td>\n",
       "      <td>0</td>\n",
       "      <td>0</td>\n",
       "      <td>0</td>\n",
       "      <td>0</td>\n",
       "      <td>0</td>\n",
       "      <td>0</td>\n",
       "      <td>0</td>\n",
       "    </tr>\n",
       "    <tr>\n",
       "      <th>3</th>\n",
       "      <td>4</td>\n",
       "      <td>0</td>\n",
       "      <td>0</td>\n",
       "      <td>0</td>\n",
       "      <td>0</td>\n",
       "      <td>0</td>\n",
       "      <td>0</td>\n",
       "      <td>0</td>\n",
       "      <td>0</td>\n",
       "      <td>0</td>\n",
       "      <td>...</td>\n",
       "      <td>0</td>\n",
       "      <td>0</td>\n",
       "      <td>0</td>\n",
       "      <td>0</td>\n",
       "      <td>0</td>\n",
       "      <td>0</td>\n",
       "      <td>0</td>\n",
       "      <td>0</td>\n",
       "      <td>0</td>\n",
       "      <td>0</td>\n",
       "    </tr>\n",
       "    <tr>\n",
       "      <th>4</th>\n",
       "      <td>0</td>\n",
       "      <td>0</td>\n",
       "      <td>0</td>\n",
       "      <td>0</td>\n",
       "      <td>0</td>\n",
       "      <td>0</td>\n",
       "      <td>0</td>\n",
       "      <td>0</td>\n",
       "      <td>0</td>\n",
       "      <td>0</td>\n",
       "      <td>...</td>\n",
       "      <td>0</td>\n",
       "      <td>0</td>\n",
       "      <td>0</td>\n",
       "      <td>0</td>\n",
       "      <td>0</td>\n",
       "      <td>0</td>\n",
       "      <td>0</td>\n",
       "      <td>0</td>\n",
       "      <td>0</td>\n",
       "      <td>0</td>\n",
       "    </tr>\n",
       "  </tbody>\n",
       "</table>\n",
       "<p>5 rows × 785 columns</p>\n",
       "</div>"
      ],
      "text/plain": [
       "   label  pixel0  pixel1  pixel2  pixel3  pixel4  pixel5  pixel6  pixel7  \\\n",
       "0      1       0       0       0       0       0       0       0       0   \n",
       "1      0       0       0       0       0       0       0       0       0   \n",
       "2      1       0       0       0       0       0       0       0       0   \n",
       "3      4       0       0       0       0       0       0       0       0   \n",
       "4      0       0       0       0       0       0       0       0       0   \n",
       "\n",
       "   pixel8  ...  pixel774  pixel775  pixel776  pixel777  pixel778  pixel779  \\\n",
       "0       0  ...         0         0         0         0         0         0   \n",
       "1       0  ...         0         0         0         0         0         0   \n",
       "2       0  ...         0         0         0         0         0         0   \n",
       "3       0  ...         0         0         0         0         0         0   \n",
       "4       0  ...         0         0         0         0         0         0   \n",
       "\n",
       "   pixel780  pixel781  pixel782  pixel783  \n",
       "0         0         0         0         0  \n",
       "1         0         0         0         0  \n",
       "2         0         0         0         0  \n",
       "3         0         0         0         0  \n",
       "4         0         0         0         0  \n",
       "\n",
       "[5 rows x 785 columns]"
      ]
     },
     "execution_count": 3,
     "metadata": {},
     "output_type": "execute_result"
    }
   ],
   "source": [
    "data.head()"
   ]
  },
  {
   "cell_type": "code",
   "execution_count": 4,
   "id": "b1d776fe",
   "metadata": {},
   "outputs": [
    {
     "data": {
      "text/plain": [
       "(42000, 785)"
      ]
     },
     "execution_count": 4,
     "metadata": {},
     "output_type": "execute_result"
    }
   ],
   "source": [
    "# Lets check the dimensions of our dataset next\n",
    "data.shape"
   ]
  },
  {
   "cell_type": "code",
   "execution_count": null,
   "id": "45cca6f6",
   "metadata": {},
   "outputs": [],
   "source": []
  },
  {
   "cell_type": "markdown",
   "id": "63d575b2",
   "metadata": {},
   "source": [
    "Next, lets split the data into train, val, and test sets. We will use stratified split incase our train, val, and test sets are not good representatives of the population."
   ]
  },
  {
   "cell_type": "code",
   "execution_count": 5,
   "id": "adb56574",
   "metadata": {},
   "outputs": [],
   "source": [
    "from sklearn.model_selection import train_test_split\n",
    "\n",
    "X = data.iloc[:,1:]\n",
    "y = data['label']\n",
    "\n",
    "X_train, X_test, y_train, y_test = train_test_split(X, y, test_size=0.3, random_state=42)\n",
    "X_val, X_test, y_val, y_test = train_test_split(X_test, y_test, test_size=0.3, random_state=42)"
   ]
  },
  {
   "cell_type": "code",
   "execution_count": null,
   "id": "38ab215c",
   "metadata": {},
   "outputs": [],
   "source": []
  },
  {
   "cell_type": "code",
   "execution_count": 6,
   "id": "52e56fc5",
   "metadata": {},
   "outputs": [
    {
     "data": {
      "text/html": [
       "<div>\n",
       "<style scoped>\n",
       "    .dataframe tbody tr th:only-of-type {\n",
       "        vertical-align: middle;\n",
       "    }\n",
       "\n",
       "    .dataframe tbody tr th {\n",
       "        vertical-align: top;\n",
       "    }\n",
       "\n",
       "    .dataframe thead th {\n",
       "        text-align: right;\n",
       "    }\n",
       "</style>\n",
       "<table border=\"1\" class=\"dataframe\">\n",
       "  <thead>\n",
       "    <tr style=\"text-align: right;\">\n",
       "      <th></th>\n",
       "      <th>y_train</th>\n",
       "      <th>y_val</th>\n",
       "      <th>y_test</th>\n",
       "    </tr>\n",
       "  </thead>\n",
       "  <tbody>\n",
       "    <tr>\n",
       "      <th>0</th>\n",
       "      <td>0.099728</td>\n",
       "      <td>0.096032</td>\n",
       "      <td>0.093386</td>\n",
       "    </tr>\n",
       "    <tr>\n",
       "      <th>1</th>\n",
       "      <td>0.112075</td>\n",
       "      <td>0.110091</td>\n",
       "      <td>0.110582</td>\n",
       "    </tr>\n",
       "    <tr>\n",
       "      <th>2</th>\n",
       "      <td>0.098061</td>\n",
       "      <td>0.103741</td>\n",
       "      <td>0.100265</td>\n",
       "    </tr>\n",
       "    <tr>\n",
       "      <th>3</th>\n",
       "      <td>0.101905</td>\n",
       "      <td>0.107029</td>\n",
       "      <td>0.108730</td>\n",
       "    </tr>\n",
       "    <tr>\n",
       "      <th>4</th>\n",
       "      <td>0.096939</td>\n",
       "      <td>0.099887</td>\n",
       "      <td>0.090212</td>\n",
       "    </tr>\n",
       "    <tr>\n",
       "      <th>5</th>\n",
       "      <td>0.092177</td>\n",
       "      <td>0.085374</td>\n",
       "      <td>0.087831</td>\n",
       "    </tr>\n",
       "    <tr>\n",
       "      <th>6</th>\n",
       "      <td>0.097993</td>\n",
       "      <td>0.099320</td>\n",
       "      <td>0.100529</td>\n",
       "    </tr>\n",
       "    <tr>\n",
       "      <th>7</th>\n",
       "      <td>0.103469</td>\n",
       "      <td>0.107483</td>\n",
       "      <td>0.108730</td>\n",
       "    </tr>\n",
       "    <tr>\n",
       "      <th>8</th>\n",
       "      <td>0.097075</td>\n",
       "      <td>0.093537</td>\n",
       "      <td>0.101587</td>\n",
       "    </tr>\n",
       "    <tr>\n",
       "      <th>9</th>\n",
       "      <td>0.100578</td>\n",
       "      <td>0.097506</td>\n",
       "      <td>0.098148</td>\n",
       "    </tr>\n",
       "  </tbody>\n",
       "</table>\n",
       "</div>"
      ],
      "text/plain": [
       "    y_train     y_val    y_test\n",
       "0  0.099728  0.096032  0.093386\n",
       "1  0.112075  0.110091  0.110582\n",
       "2  0.098061  0.103741  0.100265\n",
       "3  0.101905  0.107029  0.108730\n",
       "4  0.096939  0.099887  0.090212\n",
       "5  0.092177  0.085374  0.087831\n",
       "6  0.097993  0.099320  0.100529\n",
       "7  0.103469  0.107483  0.108730\n",
       "8  0.097075  0.093537  0.101587\n",
       "9  0.100578  0.097506  0.098148"
      ]
     },
     "execution_count": 6,
     "metadata": {},
     "output_type": "execute_result"
    }
   ],
   "source": [
    "# Lets examine if our distinct sets are goods samples\n",
    "perc = list()\n",
    "for y in [y_train, y_val, y_test]:\n",
    "    perc.append(y.value_counts(normalize=True).sort_index())\n",
    "pd.DataFrame(np.array(perc).T, columns=['y_train', 'y_val', 'y_test'])"
   ]
  },
  {
   "cell_type": "markdown",
   "id": "dda04a38",
   "metadata": {},
   "source": [
    "Indeed, all of the sets are good representatives of the population. Therefore, we can move on to next task. Otherwise, we could have use StratifiedShuffleSplit from sklearn's model_selection module."
   ]
  },
  {
   "cell_type": "code",
   "execution_count": null,
   "id": "3039eeab",
   "metadata": {},
   "outputs": [],
   "source": []
  },
  {
   "cell_type": "markdown",
   "id": "f73da424",
   "metadata": {},
   "source": [
    "So good practice is to hold the test data to the very end of our work and never explore it. Lets quickly look at the size of these sets next."
   ]
  },
  {
   "cell_type": "code",
   "execution_count": 7,
   "id": "c3590dac",
   "metadata": {},
   "outputs": [
    {
     "name": "stdout",
     "output_type": "stream",
     "text": [
      "Training set: 29400\n",
      "Validation set: 8820\n",
      "Training set: 3780\n"
     ]
    }
   ],
   "source": [
    "print(f\"Training set: {X_train.shape[0]}\")\n",
    "print(f\"Validation set: {X_val.shape[0]}\")\n",
    "print(f\"Training set: {X_test.shape[0]}\")"
   ]
  },
  {
   "cell_type": "code",
   "execution_count": null,
   "id": "2305ae8a",
   "metadata": {},
   "outputs": [],
   "source": []
  },
  {
   "cell_type": "code",
   "execution_count": null,
   "id": "6756cccc",
   "metadata": {},
   "outputs": [],
   "source": []
  },
  {
   "cell_type": "markdown",
   "id": "17b8a8f3",
   "metadata": {},
   "source": [
    "## 2.EDA"
   ]
  },
  {
   "cell_type": "code",
   "execution_count": 8,
   "id": "87dbe0e1",
   "metadata": {},
   "outputs": [
    {
     "name": "stdout",
     "output_type": "stream",
     "text": [
      "<class 'pandas.core.frame.DataFrame'>\n",
      "Int64Index: 29400 entries, 15673 to 15795\n",
      "Columns: 784 entries, pixel0 to pixel783\n",
      "dtypes: int64(784)\n",
      "memory usage: 176.1 MB\n"
     ]
    }
   ],
   "source": [
    "X_train.info()"
   ]
  },
  {
   "cell_type": "code",
   "execution_count": 9,
   "id": "5208f0a2",
   "metadata": {},
   "outputs": [
    {
     "name": "stdout",
     "output_type": "stream",
     "text": [
      "# of Rows: 29400\n",
      "# of Columns: 784\n"
     ]
    }
   ],
   "source": [
    "print(f\"# of Rows: {X_train.shape[0]}\")\n",
    "print(f\"# of Columns: {X_train.shape[1]}\")"
   ]
  },
  {
   "cell_type": "code",
   "execution_count": 10,
   "id": "cb1bec77",
   "metadata": {},
   "outputs": [
    {
     "data": {
      "text/html": [
       "<div>\n",
       "<style scoped>\n",
       "    .dataframe tbody tr th:only-of-type {\n",
       "        vertical-align: middle;\n",
       "    }\n",
       "\n",
       "    .dataframe tbody tr th {\n",
       "        vertical-align: top;\n",
       "    }\n",
       "\n",
       "    .dataframe thead th {\n",
       "        text-align: right;\n",
       "    }\n",
       "</style>\n",
       "<table border=\"1\" class=\"dataframe\">\n",
       "  <thead>\n",
       "    <tr style=\"text-align: right;\">\n",
       "      <th></th>\n",
       "      <th>pixel0</th>\n",
       "      <th>pixel1</th>\n",
       "      <th>pixel2</th>\n",
       "      <th>pixel3</th>\n",
       "      <th>pixel4</th>\n",
       "      <th>pixel5</th>\n",
       "      <th>pixel6</th>\n",
       "      <th>pixel7</th>\n",
       "      <th>pixel8</th>\n",
       "      <th>pixel9</th>\n",
       "      <th>...</th>\n",
       "      <th>pixel774</th>\n",
       "      <th>pixel775</th>\n",
       "      <th>pixel776</th>\n",
       "      <th>pixel777</th>\n",
       "      <th>pixel778</th>\n",
       "      <th>pixel779</th>\n",
       "      <th>pixel780</th>\n",
       "      <th>pixel781</th>\n",
       "      <th>pixel782</th>\n",
       "      <th>pixel783</th>\n",
       "    </tr>\n",
       "  </thead>\n",
       "  <tbody>\n",
       "    <tr>\n",
       "      <th>count</th>\n",
       "      <td>29400.0</td>\n",
       "      <td>29400.0</td>\n",
       "      <td>29400.0</td>\n",
       "      <td>29400.0</td>\n",
       "      <td>29400.0</td>\n",
       "      <td>29400.0</td>\n",
       "      <td>29400.0</td>\n",
       "      <td>29400.0</td>\n",
       "      <td>29400.0</td>\n",
       "      <td>29400.0</td>\n",
       "      <td>...</td>\n",
       "      <td>29400.000000</td>\n",
       "      <td>29400.000000</td>\n",
       "      <td>29400.000000</td>\n",
       "      <td>29400.000000</td>\n",
       "      <td>29400.000000</td>\n",
       "      <td>29400.000000</td>\n",
       "      <td>29400.0</td>\n",
       "      <td>29400.0</td>\n",
       "      <td>29400.0</td>\n",
       "      <td>29400.0</td>\n",
       "    </tr>\n",
       "    <tr>\n",
       "      <th>mean</th>\n",
       "      <td>0.0</td>\n",
       "      <td>0.0</td>\n",
       "      <td>0.0</td>\n",
       "      <td>0.0</td>\n",
       "      <td>0.0</td>\n",
       "      <td>0.0</td>\n",
       "      <td>0.0</td>\n",
       "      <td>0.0</td>\n",
       "      <td>0.0</td>\n",
       "      <td>0.0</td>\n",
       "      <td>...</td>\n",
       "      <td>0.213980</td>\n",
       "      <td>0.115272</td>\n",
       "      <td>0.069728</td>\n",
       "      <td>0.028469</td>\n",
       "      <td>0.019388</td>\n",
       "      <td>0.004082</td>\n",
       "      <td>0.0</td>\n",
       "      <td>0.0</td>\n",
       "      <td>0.0</td>\n",
       "      <td>0.0</td>\n",
       "    </tr>\n",
       "    <tr>\n",
       "      <th>std</th>\n",
       "      <td>0.0</td>\n",
       "      <td>0.0</td>\n",
       "      <td>0.0</td>\n",
       "      <td>0.0</td>\n",
       "      <td>0.0</td>\n",
       "      <td>0.0</td>\n",
       "      <td>0.0</td>\n",
       "      <td>0.0</td>\n",
       "      <td>0.0</td>\n",
       "      <td>0.0</td>\n",
       "      <td>...</td>\n",
       "      <td>6.354561</td>\n",
       "      <td>4.467579</td>\n",
       "      <td>3.651858</td>\n",
       "      <td>2.102425</td>\n",
       "      <td>2.078635</td>\n",
       "      <td>0.495138</td>\n",
       "      <td>0.0</td>\n",
       "      <td>0.0</td>\n",
       "      <td>0.0</td>\n",
       "      <td>0.0</td>\n",
       "    </tr>\n",
       "    <tr>\n",
       "      <th>min</th>\n",
       "      <td>0.0</td>\n",
       "      <td>0.0</td>\n",
       "      <td>0.0</td>\n",
       "      <td>0.0</td>\n",
       "      <td>0.0</td>\n",
       "      <td>0.0</td>\n",
       "      <td>0.0</td>\n",
       "      <td>0.0</td>\n",
       "      <td>0.0</td>\n",
       "      <td>0.0</td>\n",
       "      <td>...</td>\n",
       "      <td>0.000000</td>\n",
       "      <td>0.000000</td>\n",
       "      <td>0.000000</td>\n",
       "      <td>0.000000</td>\n",
       "      <td>0.000000</td>\n",
       "      <td>0.000000</td>\n",
       "      <td>0.0</td>\n",
       "      <td>0.0</td>\n",
       "      <td>0.0</td>\n",
       "      <td>0.0</td>\n",
       "    </tr>\n",
       "    <tr>\n",
       "      <th>25%</th>\n",
       "      <td>0.0</td>\n",
       "      <td>0.0</td>\n",
       "      <td>0.0</td>\n",
       "      <td>0.0</td>\n",
       "      <td>0.0</td>\n",
       "      <td>0.0</td>\n",
       "      <td>0.0</td>\n",
       "      <td>0.0</td>\n",
       "      <td>0.0</td>\n",
       "      <td>0.0</td>\n",
       "      <td>...</td>\n",
       "      <td>0.000000</td>\n",
       "      <td>0.000000</td>\n",
       "      <td>0.000000</td>\n",
       "      <td>0.000000</td>\n",
       "      <td>0.000000</td>\n",
       "      <td>0.000000</td>\n",
       "      <td>0.0</td>\n",
       "      <td>0.0</td>\n",
       "      <td>0.0</td>\n",
       "      <td>0.0</td>\n",
       "    </tr>\n",
       "    <tr>\n",
       "      <th>50%</th>\n",
       "      <td>0.0</td>\n",
       "      <td>0.0</td>\n",
       "      <td>0.0</td>\n",
       "      <td>0.0</td>\n",
       "      <td>0.0</td>\n",
       "      <td>0.0</td>\n",
       "      <td>0.0</td>\n",
       "      <td>0.0</td>\n",
       "      <td>0.0</td>\n",
       "      <td>0.0</td>\n",
       "      <td>...</td>\n",
       "      <td>0.000000</td>\n",
       "      <td>0.000000</td>\n",
       "      <td>0.000000</td>\n",
       "      <td>0.000000</td>\n",
       "      <td>0.000000</td>\n",
       "      <td>0.000000</td>\n",
       "      <td>0.0</td>\n",
       "      <td>0.0</td>\n",
       "      <td>0.0</td>\n",
       "      <td>0.0</td>\n",
       "    </tr>\n",
       "    <tr>\n",
       "      <th>75%</th>\n",
       "      <td>0.0</td>\n",
       "      <td>0.0</td>\n",
       "      <td>0.0</td>\n",
       "      <td>0.0</td>\n",
       "      <td>0.0</td>\n",
       "      <td>0.0</td>\n",
       "      <td>0.0</td>\n",
       "      <td>0.0</td>\n",
       "      <td>0.0</td>\n",
       "      <td>0.0</td>\n",
       "      <td>...</td>\n",
       "      <td>0.000000</td>\n",
       "      <td>0.000000</td>\n",
       "      <td>0.000000</td>\n",
       "      <td>0.000000</td>\n",
       "      <td>0.000000</td>\n",
       "      <td>0.000000</td>\n",
       "      <td>0.0</td>\n",
       "      <td>0.0</td>\n",
       "      <td>0.0</td>\n",
       "      <td>0.0</td>\n",
       "    </tr>\n",
       "    <tr>\n",
       "      <th>max</th>\n",
       "      <td>0.0</td>\n",
       "      <td>0.0</td>\n",
       "      <td>0.0</td>\n",
       "      <td>0.0</td>\n",
       "      <td>0.0</td>\n",
       "      <td>0.0</td>\n",
       "      <td>0.0</td>\n",
       "      <td>0.0</td>\n",
       "      <td>0.0</td>\n",
       "      <td>0.0</td>\n",
       "      <td>...</td>\n",
       "      <td>254.000000</td>\n",
       "      <td>254.000000</td>\n",
       "      <td>253.000000</td>\n",
       "      <td>253.000000</td>\n",
       "      <td>254.000000</td>\n",
       "      <td>62.000000</td>\n",
       "      <td>0.0</td>\n",
       "      <td>0.0</td>\n",
       "      <td>0.0</td>\n",
       "      <td>0.0</td>\n",
       "    </tr>\n",
       "  </tbody>\n",
       "</table>\n",
       "<p>8 rows × 784 columns</p>\n",
       "</div>"
      ],
      "text/plain": [
       "        pixel0   pixel1   pixel2   pixel3   pixel4   pixel5   pixel6   pixel7  \\\n",
       "count  29400.0  29400.0  29400.0  29400.0  29400.0  29400.0  29400.0  29400.0   \n",
       "mean       0.0      0.0      0.0      0.0      0.0      0.0      0.0      0.0   \n",
       "std        0.0      0.0      0.0      0.0      0.0      0.0      0.0      0.0   \n",
       "min        0.0      0.0      0.0      0.0      0.0      0.0      0.0      0.0   \n",
       "25%        0.0      0.0      0.0      0.0      0.0      0.0      0.0      0.0   \n",
       "50%        0.0      0.0      0.0      0.0      0.0      0.0      0.0      0.0   \n",
       "75%        0.0      0.0      0.0      0.0      0.0      0.0      0.0      0.0   \n",
       "max        0.0      0.0      0.0      0.0      0.0      0.0      0.0      0.0   \n",
       "\n",
       "        pixel8   pixel9  ...      pixel774      pixel775      pixel776  \\\n",
       "count  29400.0  29400.0  ...  29400.000000  29400.000000  29400.000000   \n",
       "mean       0.0      0.0  ...      0.213980      0.115272      0.069728   \n",
       "std        0.0      0.0  ...      6.354561      4.467579      3.651858   \n",
       "min        0.0      0.0  ...      0.000000      0.000000      0.000000   \n",
       "25%        0.0      0.0  ...      0.000000      0.000000      0.000000   \n",
       "50%        0.0      0.0  ...      0.000000      0.000000      0.000000   \n",
       "75%        0.0      0.0  ...      0.000000      0.000000      0.000000   \n",
       "max        0.0      0.0  ...    254.000000    254.000000    253.000000   \n",
       "\n",
       "           pixel777      pixel778      pixel779  pixel780  pixel781  pixel782  \\\n",
       "count  29400.000000  29400.000000  29400.000000   29400.0   29400.0   29400.0   \n",
       "mean       0.028469      0.019388      0.004082       0.0       0.0       0.0   \n",
       "std        2.102425      2.078635      0.495138       0.0       0.0       0.0   \n",
       "min        0.000000      0.000000      0.000000       0.0       0.0       0.0   \n",
       "25%        0.000000      0.000000      0.000000       0.0       0.0       0.0   \n",
       "50%        0.000000      0.000000      0.000000       0.0       0.0       0.0   \n",
       "75%        0.000000      0.000000      0.000000       0.0       0.0       0.0   \n",
       "max      253.000000    254.000000     62.000000       0.0       0.0       0.0   \n",
       "\n",
       "       pixel783  \n",
       "count   29400.0  \n",
       "mean        0.0  \n",
       "std         0.0  \n",
       "min         0.0  \n",
       "25%         0.0  \n",
       "50%         0.0  \n",
       "75%         0.0  \n",
       "max         0.0  \n",
       "\n",
       "[8 rows x 784 columns]"
      ]
     },
     "execution_count": 10,
     "metadata": {},
     "output_type": "execute_result"
    }
   ],
   "source": [
    "X_train.describe()"
   ]
  },
  {
   "cell_type": "markdown",
   "id": "c4fa339e",
   "metadata": {},
   "source": [
    "It seems like most the valuable information is located in only a subset of feature space. Therefore, it might be worth running some dimensionaly reduction techniques like PCA. Lets confirm this trend by visualizing a small sample of the data next."
   ]
  },
  {
   "cell_type": "code",
   "execution_count": 11,
   "id": "18589cc4",
   "metadata": {},
   "outputs": [],
   "source": [
    "sample_index = np.random.choice(range(29400), 10).tolist()\n",
    "sample = X_train.iloc[sample_index,:]"
   ]
  },
  {
   "cell_type": "code",
   "execution_count": 12,
   "id": "65b3a196",
   "metadata": {},
   "outputs": [
    {
     "data": {
      "image/png": "[encoded data removed]",
      "text/plain": [
       "<Figure size 1152x1152 with 10 Axes>"
      ]
     },
     "metadata": {
      "needs_background": "light"
     },
     "output_type": "display_data"
    }
   ],
   "source": [
    "sample_clean = np.array(sample).reshape(10,28,28)\n",
    "fig, axs = plt.subplots(ncols=10, sharey=True,figsize=(16,16))\n",
    "for i,img in enumerate(sample_clean):\n",
    "    axs[i].imshow(img)"
   ]
  },
  {
   "cell_type": "markdown",
   "id": "ce51d4b8",
   "metadata": {},
   "source": [
    "Cool, our predictions is true. Hence, it will be worthwhile to implement PCA in practice in the data cleaning step. "
   ]
  },
  {
   "cell_type": "code",
   "execution_count": null,
   "id": "d910000b",
   "metadata": {},
   "outputs": [],
   "source": []
  },
  {
   "cell_type": "markdown",
   "id": "7ba3c176",
   "metadata": {},
   "source": [
    "## 3.Data Cleaning"
   ]
  },
  {
   "cell_type": "code",
   "execution_count": 13,
   "id": "72ac903c",
   "metadata": {},
   "outputs": [],
   "source": [
    "# # First of all, lets scale the features\n",
    "# from sklearn.preprocessing import StandardScaler\n",
    "# scaler = StandardScaler()\n",
    "# X_train = scaler.fit_transform(X_train)"
   ]
  },
  {
   "cell_type": "code",
   "execution_count": null,
   "id": "5d7d9888",
   "metadata": {},
   "outputs": [],
   "source": []
  },
  {
   "cell_type": "code",
   "execution_count": 14,
   "id": "e84fb790",
   "metadata": {},
   "outputs": [],
   "source": [
    "# # Dimensionality Reduction\n",
    "# from sklearn.decomposition import PCA\n",
    "# pca = PCA(n_components=0.95)\n",
    "# pca.fit(X_train)"
   ]
  },
  {
   "cell_type": "code",
   "execution_count": 15,
   "id": "b8d58f60",
   "metadata": {},
   "outputs": [],
   "source": [
    "# X_train = pca.transform(X_train)\n",
    "# X_train.shape"
   ]
  },
  {
   "cell_type": "code",
   "execution_count": null,
   "id": "5cef550f",
   "metadata": {},
   "outputs": [],
   "source": []
  },
  {
   "cell_type": "code",
   "execution_count": null,
   "id": "5ab24692",
   "metadata": {},
   "outputs": [],
   "source": []
  },
  {
   "cell_type": "markdown",
   "id": "1da6c119",
   "metadata": {},
   "source": [
    "## 4.Data Pipelines"
   ]
  },
  {
   "cell_type": "markdown",
   "id": "c26444d3",
   "metadata": {},
   "source": [
    "Alternatively, we can build pipelines for data cleaning or transformatoin tasks. Indeed, it is the recommended way and we will stick to it next."
   ]
  },
  {
   "cell_type": "code",
   "execution_count": 16,
   "id": "9f838f85",
   "metadata": {},
   "outputs": [],
   "source": [
    "from sklearn.preprocessing import StandardScaler\n",
    "from sklearn.decomposition import PCA\n",
    "\n",
    "from sklearn.pipeline import Pipeline\n",
    "pipeline = Pipeline([\n",
    "    (\"scaler\", StandardScaler()),\n",
    "    (\"pca\", PCA(n_components=0.95))\n",
    "])"
   ]
  },
  {
   "cell_type": "code",
   "execution_count": 17,
   "id": "d9b760b3",
   "metadata": {},
   "outputs": [],
   "source": [
    "X_train = pipeline.fit_transform(X_train)"
   ]
  },
  {
   "cell_type": "markdown",
   "id": "5f5c13fc",
   "metadata": {},
   "source": [
    "We can play with the hyparameter n_components later on to find its best value for this problem."
   ]
  },
  {
   "cell_type": "code",
   "execution_count": null,
   "id": "d71ce018",
   "metadata": {},
   "outputs": [],
   "source": []
  },
  {
   "cell_type": "code",
   "execution_count": null,
   "id": "49f42a6c",
   "metadata": {},
   "outputs": [],
   "source": []
  },
  {
   "cell_type": "markdown",
   "id": "ed4c6c1b",
   "metadata": {},
   "source": [
    "## 5.Building and Training a Simple Classifier"
   ]
  },
  {
   "cell_type": "markdown",
   "id": "fa708d29",
   "metadata": {},
   "source": [
    "Lets start with perhaps the simplest of all, the perceptron model. For now we will stick with just one model. Perform model evaluation and hyperparameter tuning. Then, once we build a custom function to train and evaluate distinct models simultaneously, we will come back and give a shot to other ml models too without having to type all the lines of code again and over."
   ]
  },
  {
   "cell_type": "code",
   "execution_count": 18,
   "id": "4caa4623",
   "metadata": {},
   "outputs": [],
   "source": [
    "from sklearn.linear_model import SGDClassifier"
   ]
  },
  {
   "cell_type": "code",
   "execution_count": 19,
   "id": "89019d25",
   "metadata": {},
   "outputs": [],
   "source": [
    "# As this is a multiclass problem, we will use sklearn OvR techinique as generalization of binary classification\n",
    "from sklearn.multiclass import OneVsRestClassifier"
   ]
  },
  {
   "cell_type": "code",
   "execution_count": 20,
   "id": "340f65b7",
   "metadata": {},
   "outputs": [],
   "source": [
    "lin_clf = OneVsRestClassifier(SGDClassifier(loss='perceptron', max_iter=2000))"
   ]
  },
  {
   "cell_type": "code",
   "execution_count": 21,
   "id": "4653c4b9",
   "metadata": {},
   "outputs": [
    {
     "data": {
      "text/html": [
       "<style>#sk-container-id-1 {color: black;background-color: white;}#sk-container-id-1 pre{padding: 0;}#sk-container-id-1 div.sk-toggleable {background-color: white;}#sk-container-id-1 label.sk-toggleable__label {cursor: pointer;display: block;width: 100%;margin-bottom: 0;padding: 0.3em;box-sizing: border-box;text-align: center;}#sk-container-id-1 label.sk-toggleable__label-arrow:before {content: \"▸\";float: left;margin-right: 0.25em;color: #696969;}#sk-container-id-1 label.sk-toggleable__label-arrow:hover:before {color: black;}#sk-container-id-1 div.sk-estimator:hover label.sk-toggleable__label-arrow:before {color: black;}#sk-container-id-1 div.sk-toggleable__content {max-height: 0;max-width: 0;overflow: hidden;text-align: left;background-color: #f0f8ff;}#sk-container-id-1 div.sk-toggleable__content pre {margin: 0.2em;color: black;border-radius: 0.25em;background-color: #f0f8ff;}#sk-container-id-1 input.sk-toggleable__control:checked~div.sk-toggleable__content {max-height: 200px;max-width: 100%;overflow: auto;}#sk-container-id-1 input.sk-toggleable__control:checked~label.sk-toggleable__label-arrow:before {content: \"▾\";}#sk-container-id-1 div.sk-estimator input.sk-toggleable__control:checked~label.sk-toggleable__label {background-color: #d4ebff;}#sk-container-id-1 div.sk-label input.sk-toggleable__control:checked~label.sk-toggleable__label {background-color: #d4ebff;}#sk-container-id-1 input.sk-hidden--visually {border: 0;clip: rect(1px 1px 1px 1px);clip: rect(1px, 1px, 1px, 1px);height: 1px;margin: -1px;overflow: hidden;padding: 0;position: absolute;width: 1px;}#sk-container-id-1 div.sk-estimator {font-family: monospace;background-color: #f0f8ff;border: 1px dotted black;border-radius: 0.25em;box-sizing: border-box;margin-bottom: 0.5em;}#sk-container-id-1 div.sk-estimator:hover {background-color: #d4ebff;}#sk-container-id-1 div.sk-parallel-item::after {content: \"\";width: 100%;border-bottom: 1px solid gray;flex-grow: 1;}#sk-container-id-1 div.sk-label:hover label.sk-toggleable__label {background-color: #d4ebff;}#sk-container-id-1 div.sk-serial::before {content: \"\";position: absolute;border-left: 1px solid gray;box-sizing: border-box;top: 0;bottom: 0;left: 50%;z-index: 0;}#sk-container-id-1 div.sk-serial {display: flex;flex-direction: column;align-items: center;background-color: white;padding-right: 0.2em;padding-left: 0.2em;position: relative;}#sk-container-id-1 div.sk-item {position: relative;z-index: 1;}#sk-container-id-1 div.sk-parallel {display: flex;align-items: stretch;justify-content: center;background-color: white;position: relative;}#sk-container-id-1 div.sk-item::before, #sk-container-id-1 div.sk-parallel-item::before {content: \"\";position: absolute;border-left: 1px solid gray;box-sizing: border-box;top: 0;bottom: 0;left: 50%;z-index: -1;}#sk-container-id-1 div.sk-parallel-item {display: flex;flex-direction: column;z-index: 1;position: relative;background-color: white;}#sk-container-id-1 div.sk-parallel-item:first-child::after {align-self: flex-end;width: 50%;}#sk-container-id-1 div.sk-parallel-item:last-child::after {align-self: flex-start;width: 50%;}#sk-container-id-1 div.sk-parallel-item:only-child::after {width: 0;}#sk-container-id-1 div.sk-dashed-wrapped {border: 1px dashed gray;margin: 0 0.4em 0.5em 0.4em;box-sizing: border-box;padding-bottom: 0.4em;background-color: white;}#sk-container-id-1 div.sk-label label {font-family: monospace;font-weight: bold;display: inline-block;line-height: 1.2em;}#sk-container-id-1 div.sk-label-container {text-align: center;}#sk-container-id-1 div.sk-container {/* jupyter's `normalize.less` sets `[hidden] { display: none; }` but bootstrap.min.css set `[hidden] { display: none !important; }` so we also need the `!important` here to be able to override the default hidden behavior on the sphinx rendered scikit-learn.org. See: https://github.com/scikit-learn/scikit-learn/issues/21755 */display: inline-block !important;position: relative;}#sk-container-id-1 div.sk-text-repr-fallback {display: none;}</style><div id=\"sk-container-id-1\" class=\"sk-top-container\"><div class=\"sk-text-repr-fallback\"><pre>OneVsRestClassifier(estimator=SGDClassifier(loss=&#x27;perceptron&#x27;, max_iter=2000))</pre><b>In a Jupyter environment, please rerun this cell to show the HTML representation or trust the notebook. <br />On GitHub, the HTML representation is unable to render, please try loading this page with nbviewer.org.</b></div><div class=\"sk-container\" hidden><div class=\"sk-item sk-dashed-wrapped\"><div class=\"sk-label-container\"><div class=\"sk-label sk-toggleable\"><input class=\"sk-toggleable__control sk-hidden--visually\" id=\"sk-estimator-id-1\" type=\"checkbox\" ><label for=\"sk-estimator-id-1\" class=\"sk-toggleable__label sk-toggleable__label-arrow\">OneVsRestClassifier</label><div class=\"sk-toggleable__content\"><pre>OneVsRestClassifier(estimator=SGDClassifier(loss=&#x27;perceptron&#x27;, max_iter=2000))</pre></div></div></div><div class=\"sk-parallel\"><div class=\"sk-parallel-item\"><div class=\"sk-item\"><div class=\"sk-label-container\"><div class=\"sk-label sk-toggleable\"><input class=\"sk-toggleable__control sk-hidden--visually\" id=\"sk-estimator-id-2\" type=\"checkbox\" ><label for=\"sk-estimator-id-2\" class=\"sk-toggleable__label sk-toggleable__label-arrow\">estimator: SGDClassifier</label><div class=\"sk-toggleable__content\"><pre>SGDClassifier(loss=&#x27;perceptron&#x27;, max_iter=2000)</pre></div></div></div><div class=\"sk-serial\"><div class=\"sk-item\"><div class=\"sk-estimator sk-toggleable\"><input class=\"sk-toggleable__control sk-hidden--visually\" id=\"sk-estimator-id-3\" type=\"checkbox\" ><label for=\"sk-estimator-id-3\" class=\"sk-toggleable__label sk-toggleable__label-arrow\">SGDClassifier</label><div class=\"sk-toggleable__content\"><pre>SGDClassifier(loss=&#x27;perceptron&#x27;, max_iter=2000)</pre></div></div></div></div></div></div></div></div></div></div>"
      ],
      "text/plain": [
       "OneVsRestClassifier(estimator=SGDClassifier(loss='perceptron', max_iter=2000))"
      ]
     },
     "execution_count": 21,
     "metadata": {},
     "output_type": "execute_result"
    }
   ],
   "source": [
    "lin_clf.fit(X_train, y_train)"
   ]
  },
  {
   "cell_type": "code",
   "execution_count": null,
   "id": "97628105",
   "metadata": {},
   "outputs": [],
   "source": []
  },
  {
   "cell_type": "code",
   "execution_count": null,
   "id": "ad5576b5",
   "metadata": {},
   "outputs": [],
   "source": []
  },
  {
   "cell_type": "markdown",
   "id": "032b1a37",
   "metadata": {},
   "source": [
    "## 6. Evaluation"
   ]
  },
  {
   "cell_type": "markdown",
   "id": "eb7539f0",
   "metadata": {},
   "source": [
    "Next, lets evaluate this simple model."
   ]
  },
  {
   "cell_type": "code",
   "execution_count": 22,
   "id": "dfde2392",
   "metadata": {},
   "outputs": [],
   "source": [
    "train_predictions = lin_clf.predict(X_train)"
   ]
  },
  {
   "cell_type": "code",
   "execution_count": 23,
   "id": "848d6d76",
   "metadata": {},
   "outputs": [],
   "source": [
    "X_val_prepared = pipeline.transform(X_val)\n",
    "val_predictions = lin_clf.predict(X_val_prepared)"
   ]
  },
  {
   "cell_type": "code",
   "execution_count": null,
   "id": "031bb9b5",
   "metadata": {},
   "outputs": [],
   "source": []
  },
  {
   "cell_type": "markdown",
   "id": "ada86e4e",
   "metadata": {},
   "source": [
    "### Accuracy"
   ]
  },
  {
   "cell_type": "code",
   "execution_count": 24,
   "id": "7cc8f38f",
   "metadata": {},
   "outputs": [
    {
     "name": "stdout",
     "output_type": "stream",
     "text": [
      "Training Accuracy:0.9166666666666666\n",
      "Validation Accuracy:0.9023809523809524\n"
     ]
    }
   ],
   "source": [
    "from sklearn.metrics import accuracy_score\n",
    "print(f\"Training Accuracy:{accuracy_score(y_train, train_predictions)}\")\n",
    "print(f\"Validation Accuracy:{accuracy_score(y_val, val_predictions)}\")"
   ]
  },
  {
   "cell_type": "markdown",
   "id": "4798d527",
   "metadata": {},
   "source": [
    "It seems like our model overfits a bit. We will confirm it soon using a technique called cross-validation."
   ]
  },
  {
   "cell_type": "code",
   "execution_count": null,
   "id": "2f69bc6d",
   "metadata": {},
   "outputs": [],
   "source": []
  },
  {
   "cell_type": "markdown",
   "id": "1621c36a",
   "metadata": {},
   "source": [
    "### Other Classification Metrics"
   ]
  },
  {
   "cell_type": "markdown",
   "id": "22e4df23",
   "metadata": {},
   "source": [
    "The other key classification metrics are precision_score, recall_score, and f1_score which work well in the binary case. For simpilicity, we will stick with accuracy for now."
   ]
  },
  {
   "cell_type": "code",
   "execution_count": null,
   "id": "7882a476",
   "metadata": {},
   "outputs": [],
   "source": []
  },
  {
   "cell_type": "markdown",
   "id": "1aaadc7a",
   "metadata": {},
   "source": [
    "### Cross Validation"
   ]
  },
  {
   "cell_type": "code",
   "execution_count": 25,
   "id": "f5e3c780",
   "metadata": {},
   "outputs": [],
   "source": [
    "# We can also use cross-validation to get a sense how well our model generalizes\n",
    "from sklearn.model_selection import cross_val_score\n",
    "cvs = cross_val_score(lin_clf, X_train, y_train, scoring=\"accuracy\", cv=10)"
   ]
  },
  {
   "cell_type": "code",
   "execution_count": 26,
   "id": "21d3abe4",
   "metadata": {},
   "outputs": [
    {
     "data": {
      "text/plain": [
       "0.9065646258503401"
      ]
     },
     "execution_count": 26,
     "metadata": {},
     "output_type": "execute_result"
    }
   ],
   "source": [
    "cvs.mean()"
   ]
  },
  {
   "cell_type": "code",
   "execution_count": null,
   "id": "f9c4c019",
   "metadata": {},
   "outputs": [],
   "source": []
  },
  {
   "cell_type": "markdown",
   "id": "d9aa378f",
   "metadata": {},
   "source": [
    "### Confusion Matrix"
   ]
  },
  {
   "cell_type": "code",
   "execution_count": 27,
   "id": "7b46d71e",
   "metadata": {},
   "outputs": [
    {
     "data": {
      "text/plain": [
       "array([[804,   0,   3,   1,   2,   9,   8,   0,  20,   0],\n",
       "       [  0, 929,   7,   1,   1,   6,   0,   2,  24,   1],\n",
       "       [  3,   3, 808,  16,  11,   6,  10,   8,  50,   0],\n",
       "       [  2,   5,  14, 794,   1,  35,   2,   6,  68,  17],\n",
       "       [  2,   1,   8,   3, 785,   3,   6,   1,  43,  29],\n",
       "       [  6,   4,   1,  18,  12, 632,  14,   3,  53,  10],\n",
       "       [  7,   4,   6,   0,   3,  10, 830,   0,  16,   0],\n",
       "       [  1,   2,  12,  10,  10,   1,   1, 849,  17,  45],\n",
       "       [  1,   4,   5,  13,   2,  24,   3,   2, 765,   6],\n",
       "       [  2,   6,   4,  10,  17,   4,   0,  18,  36, 763]])"
      ]
     },
     "execution_count": 27,
     "metadata": {},
     "output_type": "execute_result"
    }
   ],
   "source": [
    "from sklearn.metrics import confusion_matrix\n",
    "confusion_matrix(y_val, val_predictions)"
   ]
  },
  {
   "cell_type": "code",
   "execution_count": 28,
   "id": "aeb0b5e6",
   "metadata": {},
   "outputs": [
    {
     "data": {
      "image/png": "[encoded data removed]",
      "text/plain": [
       "<Figure size 432x288 with 2 Axes>"
      ]
     },
     "metadata": {
      "needs_background": "light"
     },
     "output_type": "display_data"
    }
   ],
   "source": [
    "# Let's visualize this matrix using heatmap\n",
    "import seaborn as sns\n",
    "sns.heatmap(confusion_matrix(y_val, val_predictions))\n",
    "plt.show()"
   ]
  },
  {
   "cell_type": "markdown",
   "id": "53e87893",
   "metadata": {},
   "source": [
    "Hmm. Not very informative. Lets try to fill the diagonal entries with 0s, normalize rest of the entries, and then analyse the error."
   ]
  },
  {
   "cell_type": "code",
   "execution_count": 29,
   "id": "042ba4d8",
   "metadata": {},
   "outputs": [
    {
     "data": {
      "image/png": "[encoded data removed]",
      "text/plain": [
       "<Figure size 1152x864 with 2 Axes>"
      ]
     },
     "metadata": {
      "needs_background": "light"
     },
     "output_type": "display_data"
    }
   ],
   "source": [
    "cm = confusion_matrix(y_val, val_predictions)\n",
    "norm_cm = cm/cm.sum(axis=1, keepdims=True)\n",
    "np.fill_diagonal(norm_cm, 0)\n",
    "\n",
    "plt.figure(figsize=(16,12))\n",
    "sns.heatmap(norm_cm)\n",
    "plt.show()"
   ]
  },
  {
   "cell_type": "markdown",
   "id": "cb4df51f",
   "metadata": {},
   "source": [
    "Here we can see that 3 and 5 were often confused. Also, many images have been misclassified as 9."
   ]
  },
  {
   "cell_type": "code",
   "execution_count": null,
   "id": "66519f94",
   "metadata": {},
   "outputs": [],
   "source": []
  },
  {
   "cell_type": "code",
   "execution_count": null,
   "id": "795b747c",
   "metadata": {},
   "outputs": [],
   "source": []
  },
  {
   "cell_type": "markdown",
   "id": "51102339",
   "metadata": {},
   "source": [
    "## 7.Custom Function"
   ]
  },
  {
   "cell_type": "code",
   "execution_count": 30,
   "id": "1565d366",
   "metadata": {},
   "outputs": [],
   "source": [
    "def classify_digits(classifier, train_x, train_y, test_x, test_y, iterations, params):\n",
    "    # Data Preparation\n",
    "    train_x = pipeline.fit_transform(train_x)\n",
    "    test_x = pipeline.transform(test_x)\n",
    "    \n",
    "    # Grid Search Cross Validation\n",
    "    from sklearn.model_selection import GridSearchCV\n",
    "    gs_cv = GridSearchCV(classifier, param_grid=params, scoring=\"accuracy\", cv=3, refit=True)\n",
    "    gs_cv.fit(train_x, train_y)\n",
    "    \n",
    "    # Best Parameters\n",
    "    print(f\"Best Parameters: {gs_cv.best_params_}\")\n",
    "    # Training Model\n",
    "    gs_cv.fit(train_x, train_y)\n",
    "    \n",
    "    # Model Predictions\n",
    "    train_predictions = gs_cv.predict(train_x)\n",
    "    test_predictions = gs_cv.predict(test_x)\n",
    "    \n",
    "    # Model Evaluation\n",
    "    print(\"Accuracy Scores:\")\n",
    "    print(f\"Training Accuracy:{accuracy_score(train_y, train_predictions)}\")\n",
    "    print(f\"Validation Accuracy:{accuracy_score(test_y, test_predictions)}\")\n",
    "    print(\"\")\n",
    "    \n",
    "    # Cross Validation\n",
    "    cv = cross_val_score(gs_cv, train_x, train_y, scoring=\"accuracy\", cv=3)\n",
    "    print(f\"Cross Validation Accuracy: {cv.mean()}\")\n",
    "    \n",
    "    # Confusion Matrix\n",
    "    cm = confusion_matrix(test_y, test_predictions)\n",
    "    norm_cm = cm/cm.sum(axis=1, keepdims=True)\n",
    "    np.fill_diagonal(norm_cm, 0)\n",
    "\n",
    "    plt.figure(figsize=(10,8))\n",
    "    sns.heatmap(norm_cm)\n",
    "    plt.show()"
   ]
  },
  {
   "cell_type": "code",
   "execution_count": null,
   "id": "bee9a01f",
   "metadata": {},
   "outputs": [],
   "source": []
  },
  {
   "cell_type": "code",
   "execution_count": null,
   "id": "431fe103",
   "metadata": {},
   "outputs": [],
   "source": []
  },
  {
   "cell_type": "markdown",
   "id": "f109ec6f",
   "metadata": {},
   "source": [
    "## 8. Train Distinct ML Models"
   ]
  },
  {
   "cell_type": "markdown",
   "id": "5e435e76",
   "metadata": {},
   "source": [
    "The following script is just to hide jupyter warnings. No need to go into details."
   ]
  },
  {
   "cell_type": "code",
   "execution_count": 31,
   "id": "79ea0f8d",
   "metadata": {},
   "outputs": [],
   "source": [
    "import warnings\n",
    "warnings.filterwarnings('ignore')"
   ]
  },
  {
   "cell_type": "code",
   "execution_count": null,
   "id": "cffea17b",
   "metadata": {},
   "outputs": [],
   "source": []
  },
  {
   "cell_type": "markdown",
   "id": "a580049c",
   "metadata": {},
   "source": [
    "As we are going to run everything from scratch, lets make sure we have the data in the raw format next."
   ]
  },
  {
   "cell_type": "code",
   "execution_count": 32,
   "id": "5ee946b8",
   "metadata": {},
   "outputs": [],
   "source": [
    "from sklearn.model_selection import train_test_split\n",
    "\n",
    "X = data.iloc[:,1:]\n",
    "y = data['label']\n",
    "\n",
    "X_train, X_test, y_train, y_test = train_test_split(X, y, test_size=0.3, random_state=42)\n",
    "X_val, X_test, y_val, y_test = train_test_split(X_test, y_test, test_size=0.3, random_state=42)"
   ]
  },
  {
   "cell_type": "code",
   "execution_count": null,
   "id": "8c12d361",
   "metadata": {},
   "outputs": [],
   "source": []
  },
  {
   "cell_type": "code",
   "execution_count": null,
   "id": "36226d1f",
   "metadata": {},
   "outputs": [],
   "source": []
  },
  {
   "cell_type": "markdown",
   "id": "5801cad2",
   "metadata": {},
   "source": [
    "## *Perceptron Model*"
   ]
  },
  {
   "cell_type": "code",
   "execution_count": 33,
   "id": "cfec169b",
   "metadata": {},
   "outputs": [],
   "source": [
    "# Define Model\n",
    "from sklearn.linear_model import SGDClassifier\n",
    "lm = SGDClassifier(loss='perceptron')\n",
    "\n",
    "from sklearn.multiclass import OneVsRestClassifier\n",
    "lin_clf = OneVsRestClassifier(lm)"
   ]
  },
  {
   "cell_type": "code",
   "execution_count": 34,
   "id": "b45f81a8",
   "metadata": {},
   "outputs": [
    {
     "name": "stdout",
     "output_type": "stream",
     "text": [
      "Best Parameters: {'estimator__alpha': 0.001}\n",
      "Accuracy Scores:\n",
      "Training Accuracy:0.9124829931972789\n",
      "Validation Accuracy:0.9036281179138322\n",
      "\n",
      "Cross Validation Accuracy: 0.9066666666666666\n"
     ]
    },
    {
     "data": {
      "image/png": "[encoded data removed]",
      "text/plain": [
       "<Figure size 720x576 with 2 Axes>"
      ]
     },
     "metadata": {
      "needs_background": "light"
     },
     "output_type": "display_data"
    }
   ],
   "source": [
    "# Train and evaluate model\n",
    "classify_digits(lin_clf, X_train, y_train, X_val, y_val, 2000, {\"estimator__alpha\":[0.01,0.001]})"
   ]
  },
  {
   "cell_type": "markdown",
   "id": "d16d89af",
   "metadata": {},
   "source": [
    "Sweet. we are ready to accomplish all the work we have done so far with just a few lines of code. Lets continue the momentum and look at the performance of more advanced ml models such as svm, logistic regression, decision tree (ensemle), and XGBoost next."
   ]
  },
  {
   "cell_type": "code",
   "execution_count": null,
   "id": "2a012742",
   "metadata": {},
   "outputs": [],
   "source": []
  },
  {
   "cell_type": "markdown",
   "id": "4f553478",
   "metadata": {},
   "source": [
    "## *SVM*"
   ]
  },
  {
   "cell_type": "code",
   "execution_count": 35,
   "id": "537eea59",
   "metadata": {},
   "outputs": [],
   "source": [
    "# define model\n",
    "from sklearn.svm import SVC\n",
    "svc = SVC(C=0.1)\n",
    "\n",
    "# Alternatively, we can define it in a more efficient way as follows\n",
    "# svc = SGDClassifier(loss=\"hinge\")\n",
    "\n",
    "from sklearn.multiclass import OneVsRestClassifier\n",
    "svm_clf = OneVsRestClassifier(svc)"
   ]
  },
  {
   "cell_type": "code",
   "execution_count": 36,
   "id": "eb9db5c6",
   "metadata": {},
   "outputs": [
    {
     "name": "stdout",
     "output_type": "stream",
     "text": [
      "Best Parameters: {'estimator__C': 10}\n",
      "Accuracy Scores:\n",
      "Training Accuracy:0.9984353741496599\n",
      "Validation Accuracy:0.9723356009070295\n",
      "\n",
      "Cross Validation Accuracy: 0.9669727891156463\n"
     ]
    },
    {
     "data": {
      "image/png": "[encoded data removed]",
      "text/plain": [
       "<Figure size 720x576 with 2 Axes>"
      ]
     },
     "metadata": {
      "needs_background": "light"
     },
     "output_type": "display_data"
    }
   ],
   "source": [
    "# Train and evaluate model\n",
    "classify_digits(svm_clf, X_train, y_train, X_val, y_val, 2000, {\"estimator__C\":[0.1,1,10]})"
   ]
  },
  {
   "cell_type": "code",
   "execution_count": null,
   "id": "a17c2aa0",
   "metadata": {},
   "outputs": [],
   "source": []
  },
  {
   "cell_type": "markdown",
   "id": "d8e42a45",
   "metadata": {},
   "source": [
    "## *Logistic Regression*"
   ]
  },
  {
   "cell_type": "code",
   "execution_count": 37,
   "id": "443cbea4",
   "metadata": {},
   "outputs": [],
   "source": [
    "# define model\n",
    "from sklearn.linear_model import LogisticRegression\n",
    "log_reg = LogisticRegression()\n",
    "\n",
    "# Alternatively, we can define it in a more efficient way as follows\n",
    "# log_reg = SGDClassifier(loss=\"log_loss\")"
   ]
  },
  {
   "cell_type": "code",
   "execution_count": 38,
   "id": "c40104d3",
   "metadata": {},
   "outputs": [
    {
     "name": "stdout",
     "output_type": "stream",
     "text": [
      "Best Parameters: {'C': 0.01}\n",
      "Accuracy Scores:\n",
      "Training Accuracy:0.934795918367347\n",
      "Validation Accuracy:0.9218820861678004\n",
      "\n",
      "Cross Validation Accuracy: 0.9193197278911566\n"
     ]
    },
    {
     "data": {
      "image/png": "[encoded data removed]",
      "text/plain": [
       "<Figure size 720x576 with 2 Axes>"
      ]
     },
     "metadata": {
      "needs_background": "light"
     },
     "output_type": "display_data"
    }
   ],
   "source": [
    "# Train and evaluate model\n",
    "classify_digits(log_reg, X_train, y_train, X_val, y_val, 2000, {\"C\":[0.01,0.1,1,10]})"
   ]
  },
  {
   "cell_type": "code",
   "execution_count": null,
   "id": "4de6dac6",
   "metadata": {},
   "outputs": [],
   "source": []
  },
  {
   "cell_type": "markdown",
   "id": "5dbb1edf",
   "metadata": {},
   "source": [
    "## *Random Forest*"
   ]
  },
  {
   "cell_type": "code",
   "execution_count": 39,
   "id": "063b4888",
   "metadata": {},
   "outputs": [],
   "source": [
    "from sklearn.ensemble import RandomForestClassifier\n",
    "rf_clf = RandomForestClassifier(n_estimators=150)"
   ]
  },
  {
   "cell_type": "code",
   "execution_count": 40,
   "id": "34091197",
   "metadata": {},
   "outputs": [
    {
     "name": "stdout",
     "output_type": "stream",
     "text": [
      "Best Parameters: {'max_depth': 10}\n",
      "Accuracy Scores:\n",
      "Training Accuracy:0.9623809523809523\n",
      "Validation Accuracy:0.9090702947845805\n",
      "\n",
      "Cross Validation Accuracy: 0.906734693877551\n"
     ]
    },
    {
     "data": {
      "image/png": "[encoded data removed]",
      "text/plain": [
       "<Figure size 720x576 with 2 Axes>"
      ]
     },
     "metadata": {
      "needs_background": "light"
     },
     "output_type": "display_data"
    }
   ],
   "source": [
    "# Train and evaluate model\n",
    "classify_digits(rf_clf, X_train, y_train, X_val, y_val, 2000, {\"max_depth\":[5,10]})"
   ]
  },
  {
   "cell_type": "code",
   "execution_count": null,
   "id": "e37f7c67",
   "metadata": {},
   "outputs": [],
   "source": []
  },
  {
   "cell_type": "markdown",
   "id": "c17eea80",
   "metadata": {},
   "source": [
    "## *XGBoost*"
   ]
  },
  {
   "cell_type": "code",
   "execution_count": 41,
   "id": "053a2aa3",
   "metadata": {},
   "outputs": [],
   "source": [
    "from xgboost import XGBClassifier"
   ]
  },
  {
   "cell_type": "code",
   "execution_count": 42,
   "id": "8ccd09c2",
   "metadata": {},
   "outputs": [],
   "source": [
    "xgb_clf = XGBClassifier(n_estimators=50, max_depth=10, eval_metric='mlogloss')"
   ]
  },
  {
   "cell_type": "code",
   "execution_count": 43,
   "id": "96b5ae7f",
   "metadata": {},
   "outputs": [
    {
     "name": "stdout",
     "output_type": "stream",
     "text": [
      "Best Parameters: {'max_depth': 10, 'n_estimators': 100}\n",
      "Accuracy Scores:\n",
      "Training Accuracy:1.0\n",
      "Validation Accuracy:0.9498866213151927\n",
      "\n",
      "Cross Validation Accuracy: 0.9393537414965986\n"
     ]
    },
    {
     "data": {
      "image/png": "[encoded data removed]",
      "text/plain": [
       "<Figure size 720x576 with 2 Axes>"
      ]
     },
     "metadata": {
      "needs_background": "light"
     },
     "output_type": "display_data"
    }
   ],
   "source": [
    "# Train and evaluate model\n",
    "classify_digits(xgb_clf, X_train, y_train, X_val, y_val, 2000, {\"n_estimators\":[50,100], \"max_depth\":[10,20]})"
   ]
  },
  {
   "cell_type": "code",
   "execution_count": null,
   "id": "98a4a5b1",
   "metadata": {},
   "outputs": [],
   "source": []
  },
  {
   "cell_type": "code",
   "execution_count": null,
   "id": "d774b3eb",
   "metadata": {},
   "outputs": [],
   "source": []
  },
  {
   "cell_type": "markdown",
   "id": "7503f12c",
   "metadata": {},
   "source": [
    "## 9. CNN"
   ]
  },
  {
   "cell_type": "code",
   "execution_count": 44,
   "id": "d8e87d4e",
   "metadata": {},
   "outputs": [],
   "source": [
    "from tensorflow import keras"
   ]
  },
  {
   "cell_type": "code",
   "execution_count": 45,
   "id": "e0adb06b",
   "metadata": {},
   "outputs": [],
   "source": [
    "# data ingestion\n",
    "data = pd.read_csv(\"train.csv\")\n",
    "\n",
    "# split into training features and labels\n",
    "X = data.iloc[:,1:]\n",
    "y = data['label']\n",
    "\n",
    "# Lets change the dimensions of our dataset from 2D to 3D\n",
    "X = np.array(X).reshape(X.shape[0],28,28)\n",
    "\n",
    "# split the entire dataset into training and test sets\n",
    "X_train, X_test, y_train, y_test = train_test_split(X, y, test_size=0.3, random_state=42)"
   ]
  },
  {
   "cell_type": "code",
   "execution_count": 46,
   "id": "60b426d3",
   "metadata": {},
   "outputs": [],
   "source": [
    "# Lets build the model first\n",
    "model = keras.models.Sequential([\n",
    "    keras.layers.Conv2D(filters=400, kernel_size=(3,3), activation=\"relu\", padding=\"same\", input_shape=(28,28,1)),\n",
    "    keras.layers.MaxPooling2D(pool_size=(3,3), strides=(3,3), padding=\"same\"),\n",
    "    keras.layers.Dropout(0.2),\n",
    "    keras.layers.Normalization(),\n",
    "    \n",
    "    keras.layers.Conv2D(filters=200, kernel_size=(3,3), activation=\"relu\", padding=\"same\"),\n",
    "    keras.layers.MaxPooling2D(pool_size=(3,3), strides=(3,3), padding=\"same\"),\n",
    "    keras.layers.Dropout(0.2),\n",
    "    keras.layers.Normalization(),\n",
    "    \n",
    "    keras.layers.Conv2D(filters=100, kernel_size=(3,3), activation=\"relu\", padding=\"same\"),\n",
    "    keras.layers.MaxPooling2D(pool_size=(3,3), strides=(3,3), padding=\"same\"),\n",
    "    keras.layers.Dropout(0.2),\n",
    "    keras.layers.Normalization(),\n",
    "    \n",
    "    keras.layers.Flatten(),\n",
    "    keras.layers.Dense(784, activation=\"relu\"),\n",
    "    keras.layers.Dropout(0.1),\n",
    "    keras.layers.Normalization(),\n",
    "    \n",
    "    keras.layers.Dense(10, activation=\"softmax\"),\n",
    "])"
   ]
  },
  {
   "cell_type": "code",
   "execution_count": 47,
   "id": "bb364baa",
   "metadata": {},
   "outputs": [
    {
     "name": "stdout",
     "output_type": "stream",
     "text": [
      "Model: \"sequential\"\n",
      "_________________________________________________________________\n",
      " Layer (type)                Output Shape              Param #   \n",
      "=================================================================\n",
      " conv2d (Conv2D)             (None, 28, 28, 400)       4000      \n",
      "                                                                 \n",
      " max_pooling2d (MaxPooling2D  (None, 10, 10, 400)      0         \n",
      " )                                                               \n",
      "                                                                 \n",
      " dropout (Dropout)           (None, 10, 10, 400)       0         \n",
      "                                                                 \n",
      " normalization (Normalizatio  (None, 10, 10, 400)      801       \n",
      " n)                                                              \n",
      "                                                                 \n",
      " conv2d_1 (Conv2D)           (None, 10, 10, 200)       720200    \n",
      "                                                                 \n",
      " max_pooling2d_1 (MaxPooling  (None, 4, 4, 200)        0         \n",
      " 2D)                                                             \n",
      "                                                                 \n",
      " dropout_1 (Dropout)         (None, 4, 4, 200)         0         \n",
      "                                                                 \n",
      " normalization_1 (Normalizat  (None, 4, 4, 200)        401       \n",
      " ion)                                                            \n",
      "                                                                 \n",
      " conv2d_2 (Conv2D)           (None, 4, 4, 100)         180100    \n",
      "                                                                 \n",
      " max_pooling2d_2 (MaxPooling  (None, 2, 2, 100)        0         \n",
      " 2D)                                                             \n",
      "                                                                 \n",
      " dropout_2 (Dropout)         (None, 2, 2, 100)         0         \n",
      "                                                                 \n",
      " normalization_2 (Normalizat  (None, 2, 2, 100)        201       \n",
      " ion)                                                            \n",
      "                                                                 \n",
      " flatten (Flatten)           (None, 400)               0         \n",
      "                                                                 \n",
      " dense (Dense)               (None, 784)               314384    \n",
      "                                                                 \n",
      " dropout_3 (Dropout)         (None, 784)               0         \n",
      "                                                                 \n",
      " normalization_3 (Normalizat  (None, 784)              1569      \n",
      " ion)                                                            \n",
      "                                                                 \n",
      " dense_1 (Dense)             (None, 10)                7850      \n",
      "                                                                 \n",
      "=================================================================\n",
      "Total params: 1,229,506\n",
      "Trainable params: 1,226,534\n",
      "Non-trainable params: 2,972\n",
      "_________________________________________________________________\n"
     ]
    }
   ],
   "source": [
    "# Next, lets look at the model's structure\n",
    "model.summary()"
   ]
  },
  {
   "cell_type": "code",
   "execution_count": 48,
   "id": "1828fbe4",
   "metadata": {},
   "outputs": [],
   "source": [
    "# Now, compile the model\n",
    "model.compile(optimizer=keras.optimizers.Adam(learning_rate=0.0001),\n",
    "              loss=keras.losses.SparseCategoricalCrossentropy(from_logits=True), metrics=[\"accuracy\"])"
   ]
  },
  {
   "cell_type": "code",
   "execution_count": 49,
   "id": "660083b2",
   "metadata": {},
   "outputs": [
    {
     "name": "stdout",
     "output_type": "stream",
     "text": [
      "Epoch 1/100\n",
      "735/735 [==============================] - 30s 40ms/step - loss: 0.8946 - accuracy: 0.7663 - val_loss: 0.1502 - val_accuracy: 0.9510\n",
      "Epoch 2/100\n",
      "735/735 [==============================] - 29s 40ms/step - loss: 0.2131 - accuracy: 0.9349 - val_loss: 0.1240 - val_accuracy: 0.9638\n",
      "Epoch 3/100\n",
      "735/735 [==============================] - 29s 40ms/step - loss: 0.1342 - accuracy: 0.9567 - val_loss: 0.0691 - val_accuracy: 0.9779\n",
      "Epoch 4/100\n",
      "735/735 [==============================] - 29s 40ms/step - loss: 0.1078 - accuracy: 0.9682 - val_loss: 0.0622 - val_accuracy: 0.9811\n",
      "Epoch 5/100\n",
      "735/735 [==============================] - 29s 40ms/step - loss: 0.0870 - accuracy: 0.9738 - val_loss: 0.0643 - val_accuracy: 0.9796\n",
      "Epoch 6/100\n",
      "735/735 [==============================] - 29s 40ms/step - loss: 0.0761 - accuracy: 0.9767 - val_loss: 0.0530 - val_accuracy: 0.9859\n",
      "Epoch 7/100\n",
      "735/735 [==============================] - 29s 40ms/step - loss: 0.0683 - accuracy: 0.9781 - val_loss: 0.0591 - val_accuracy: 0.9820\n",
      "Epoch 8/100\n",
      "735/735 [==============================] - 29s 40ms/step - loss: 0.0573 - accuracy: 0.9818 - val_loss: 0.0465 - val_accuracy: 0.9859\n",
      "Epoch 9/100\n",
      "735/735 [==============================] - 29s 40ms/step - loss: 0.0505 - accuracy: 0.9843 - val_loss: 0.0566 - val_accuracy: 0.9825\n",
      "Epoch 10/100\n",
      "735/735 [==============================] - 29s 40ms/step - loss: 0.0458 - accuracy: 0.9850 - val_loss: 0.0461 - val_accuracy: 0.9866\n",
      "Epoch 11/100\n",
      "735/735 [==============================] - 29s 40ms/step - loss: 0.0408 - accuracy: 0.9870 - val_loss: 0.0496 - val_accuracy: 0.9849\n",
      "Epoch 12/100\n",
      "735/735 [==============================] - 29s 40ms/step - loss: 0.0367 - accuracy: 0.9886 - val_loss: 0.0542 - val_accuracy: 0.9850\n",
      "Epoch 13/100\n",
      "735/735 [==============================] - 29s 40ms/step - loss: 0.0322 - accuracy: 0.9889 - val_loss: 0.0579 - val_accuracy: 0.9830\n"
     ]
    },
    {
     "data": {
      "text/plain": [
       "<keras.callbacks.History at 0x2ad760460>"
      ]
     },
     "execution_count": 49,
     "metadata": {},
     "output_type": "execute_result"
    }
   ],
   "source": [
    "my_callbacks = [keras.callbacks.EarlyStopping(patience=3)]\n",
    "\n",
    "model.fit(X_train, y_train, validation_split=0.2, epochs=100, verbose=1, callbacks=my_callbacks)"
   ]
  },
  {
   "cell_type": "code",
   "execution_count": 50,
   "id": "fa7f29d7",
   "metadata": {},
   "outputs": [
    {
     "name": "stdout",
     "output_type": "stream",
     "text": [
      "394/394 [==============================] - 4s 11ms/step - loss: 0.0440 - accuracy: 0.9864\n"
     ]
    },
    {
     "data": {
      "text/plain": [
       "[0.04402661696076393, 0.9864286184310913]"
      ]
     },
     "execution_count": 50,
     "metadata": {},
     "output_type": "execute_result"
    }
   ],
   "source": [
    "model.evaluate(X_test, y_test)"
   ]
  },
  {
   "cell_type": "code",
   "execution_count": null,
   "id": "635deb7f",
   "metadata": {},
   "outputs": [],
   "source": []
  },
  {
   "cell_type": "code",
   "execution_count": null,
   "id": "c1f66069",
   "metadata": {},
   "outputs": [],
   "source": []
  },
  {
   "cell_type": "markdown",
   "id": "4323a17a",
   "metadata": {},
   "source": [
    "## 10. Choosing The Best Model and Submit Predictions"
   ]
  },
  {
   "cell_type": "markdown",
   "id": "e4a72c1b",
   "metadata": {},
   "source": [
    "It is evident that CNN is the best model for this classification problem with an accuracy close to 99%."
   ]
  },
  {
   "cell_type": "code",
   "execution_count": 51,
   "id": "df46cb9a",
   "metadata": {},
   "outputs": [
    {
     "name": "stdout",
     "output_type": "stream",
     "text": [
      "Epoch 1/100\n",
      "1050/1050 [==============================] - 43s 40ms/step - loss: 0.6556 - accuracy: 0.8210 - val_loss: 0.1304 - val_accuracy: 0.9586\n",
      "Epoch 2/100\n",
      "1050/1050 [==============================] - 42s 40ms/step - loss: 0.1542 - accuracy: 0.9513 - val_loss: 0.1047 - val_accuracy: 0.9669\n",
      "Epoch 3/100\n",
      "1050/1050 [==============================] - 43s 41ms/step - loss: 0.1087 - accuracy: 0.9667 - val_loss: 0.0588 - val_accuracy: 0.9810\n",
      "Epoch 4/100\n",
      "1050/1050 [==============================] - 42s 40ms/step - loss: 0.0848 - accuracy: 0.9729 - val_loss: 0.0509 - val_accuracy: 0.9843\n",
      "Epoch 5/100\n",
      "1050/1050 [==============================] - 42s 40ms/step - loss: 0.0686 - accuracy: 0.9786 - val_loss: 0.0507 - val_accuracy: 0.9842\n",
      "Epoch 6/100\n",
      "1050/1050 [==============================] - 42s 40ms/step - loss: 0.0581 - accuracy: 0.9808 - val_loss: 0.0483 - val_accuracy: 0.9857\n",
      "Epoch 7/100\n",
      "1050/1050 [==============================] - 42s 40ms/step - loss: 0.0498 - accuracy: 0.9846 - val_loss: 0.0451 - val_accuracy: 0.9850\n",
      "Epoch 8/100\n",
      "1050/1050 [==============================] - 42s 40ms/step - loss: 0.0441 - accuracy: 0.9856 - val_loss: 0.0394 - val_accuracy: 0.9886\n",
      "Epoch 9/100\n",
      "1050/1050 [==============================] - 42s 40ms/step - loss: 0.0374 - accuracy: 0.9876 - val_loss: 0.0353 - val_accuracy: 0.9895\n",
      "Epoch 10/100\n",
      "1050/1050 [==============================] - 42s 40ms/step - loss: 0.0331 - accuracy: 0.9895 - val_loss: 0.0445 - val_accuracy: 0.9870\n",
      "Epoch 11/100\n",
      "1050/1050 [==============================] - 42s 40ms/step - loss: 0.0304 - accuracy: 0.9901 - val_loss: 0.0409 - val_accuracy: 0.9880\n",
      "Epoch 12/100\n",
      "1050/1050 [==============================] - 42s 40ms/step - loss: 0.0271 - accuracy: 0.9906 - val_loss: 0.0358 - val_accuracy: 0.9895\n"
     ]
    },
    {
     "data": {
      "text/plain": [
       "<keras.callbacks.History at 0x16063ad00>"
      ]
     },
     "execution_count": 51,
     "metadata": {},
     "output_type": "execute_result"
    }
   ],
   "source": [
    "# Lets train this CNN model on the entire training set\n",
    "\n",
    "# data ingestion\n",
    "data = pd.read_csv(\"train.csv\")\n",
    "\n",
    "# split into training features and labels\n",
    "X = data.iloc[:,1:]\n",
    "y = data['label']\n",
    "\n",
    "# Lets change the dimensions of our dataset from 2D to 3D\n",
    "X = np.array(X).reshape(X.shape[0],28,28)\n",
    "\n",
    "# Lets build the model first\n",
    "final_model = keras.models.Sequential([\n",
    "    keras.layers.Conv2D(filters=400, kernel_size=(3,3), activation=\"relu\", padding=\"same\", input_shape=(28,28,1)),\n",
    "    keras.layers.MaxPooling2D(pool_size=(3,3), strides=(3,3), padding=\"same\"),\n",
    "    keras.layers.Dropout(0.2),\n",
    "    keras.layers.Normalization(),\n",
    "    \n",
    "    keras.layers.Conv2D(filters=200, kernel_size=(3,3), activation=\"relu\", padding=\"same\"),\n",
    "    keras.layers.MaxPooling2D(pool_size=(3,3), strides=(3,3), padding=\"same\"),\n",
    "    keras.layers.Dropout(0.2),\n",
    "    keras.layers.Normalization(),\n",
    "    \n",
    "    keras.layers.Conv2D(filters=100, kernel_size=(3,3), activation=\"relu\", padding=\"same\"),\n",
    "    keras.layers.MaxPooling2D(pool_size=(3,3), strides=(3,3), padding=\"same\"),\n",
    "    keras.layers.Dropout(0.2),\n",
    "    keras.layers.Normalization(),\n",
    "    \n",
    "    keras.layers.Flatten(),\n",
    "    keras.layers.Dense(784, activation=\"relu\"),\n",
    "    keras.layers.Dropout(0.1),\n",
    "    keras.layers.Normalization(),\n",
    "    \n",
    "    keras.layers.Dense(10, activation=\"softmax\"),\n",
    "])\n",
    "\n",
    "# Now, compile the model\n",
    "final_model.compile(optimizer=keras.optimizers.Adam(learning_rate=0.0001),\n",
    "              loss=keras.losses.SparseCategoricalCrossentropy(from_logits=True), metrics=[\"accuracy\"])\n",
    "\n",
    "# Next, lets train the model\n",
    "my_callbacks = [keras.callbacks.EarlyStopping(patience=3)]\n",
    "final_model.fit(X, y, validation_split=0.2, epochs=100, verbose=1, callbacks=my_callbacks)"
   ]
  },
  {
   "cell_type": "code",
   "execution_count": null,
   "id": "b3d57523",
   "metadata": {},
   "outputs": [],
   "source": []
  },
  {
   "cell_type": "code",
   "execution_count": null,
   "id": "8c92e800",
   "metadata": {},
   "outputs": [],
   "source": []
  },
  {
   "cell_type": "markdown",
   "id": "f7efb61e",
   "metadata": {},
   "source": [
    "### *Make and Submit Predictions*"
   ]
  },
  {
   "cell_type": "markdown",
   "id": "eb679698",
   "metadata": {},
   "source": [
    "First read in and prepare the test data."
   ]
  },
  {
   "cell_type": "code",
   "execution_count": 52,
   "id": "1abfb721",
   "metadata": {},
   "outputs": [],
   "source": [
    "# data ingestion\n",
    "X_test = pd.read_csv(\"test.csv\")\n",
    "\n",
    "# Lets change the dimensions of our dataset from 2D to 3D\n",
    "X_test = np.array(X_test).reshape(X_test.shape[0],28,28)"
   ]
  },
  {
   "cell_type": "code",
   "execution_count": 53,
   "id": "6f43e581",
   "metadata": {},
   "outputs": [],
   "source": [
    "# Make predictions\n",
    "final_predictions = np.argmax(final_model.predict(X_test),axis=1)"
   ]
  },
  {
   "cell_type": "code",
   "execution_count": 54,
   "id": "883f68b2",
   "metadata": {},
   "outputs": [],
   "source": [
    "image_id = np.arange(1,X_test.shape[0]+1)"
   ]
  },
  {
   "cell_type": "code",
   "execution_count": 55,
   "id": "27dc7754",
   "metadata": {},
   "outputs": [],
   "source": [
    "# Submit predictions\n",
    "my_submission = pd.DataFrame({'ImageId': image_id, 'Label': final_predictions})\n",
    "# you could use any filename. We choose submission here\n",
    "my_submission.to_csv('my_submission.csv', index=False)"
   ]
  },
  {
   "cell_type": "code",
   "execution_count": null,
   "id": "d8669426",
   "metadata": {},
   "outputs": [],
   "source": []
  }
 ],
 "metadata": {
  "kernelspec": {
   "display_name": "Python 3",
   "language": "python",
   "name": "python3"
  },
  "language_info": {
   "codemirror_mode": {
    "name": "ipython",
    "version": 3
   },
   "file_extension": ".py",
   "mimetype": "text/x-python",
   "name": "python",
   "nbconvert_exporter": "python",
   "pygments_lexer": "ipython3",
   "version": "3.8.11"
  }
 },
 "nbformat": 4,
 "nbformat_minor": 5
}
