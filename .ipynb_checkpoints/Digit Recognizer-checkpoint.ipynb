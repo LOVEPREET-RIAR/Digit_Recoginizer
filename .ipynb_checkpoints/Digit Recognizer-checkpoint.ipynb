{
 "cells": [
  {
   "cell_type": "markdown",
   "id": "e268a4c0",
   "metadata": {},
   "source": [
    "# Digit Recognizer"
   ]
  },
  {
   "cell_type": "code",
   "execution_count": null,
   "id": "0b6d3f92",
   "metadata": {},
   "outputs": [],
   "source": []
  },
  {
   "cell_type": "markdown",
   "id": "8032a3f0",
   "metadata": {},
   "source": [
    "### Competition Description\n",
    "MNIST (*Modified National Institute of Standards and Technology*) is the de facto “hello world” dataset of computer vision. Since its release in 1999, this classic dataset of handwritten images has served as the basis for benchmarking classification algorithms. As new machine learning techniques emerge, MNIST remains a reliable resource for researchers and learners alike.\n",
    "\n",
    "In this competition, our goal is to correctly identify digits from a dataset of tens of thousands of handwritten images. We will experiment with different algorithms to learn first-hand what works well and how techniques compare."
   ]
  },
  {
   "cell_type": "code",
   "execution_count": null,
   "id": "cc2ddf36",
   "metadata": {},
   "outputs": [],
   "source": []
  },
  {
   "cell_type": "markdown",
   "id": "3625609c",
   "metadata": {},
   "source": [
    "### Plan:\n",
    "1. Data Ingestion and Split\n",
    "2. EDA\n",
    "3. Data Cleaning\n",
    "   * Reshaping data\n",
    "   * Dimensionality Reduction\n",
    "   * Normalization\n",
    "4. Data Pipelines\n",
    "5. Train Distinct ML Models\n",
    "   * Linear Classifier\n",
    "   * Logistic Regression\n",
    "   * SVM Classifier\n",
    "   * Random Forest\n",
    "   * XGBoost Classifier\n",
    "6. Evaluation\n",
    "   * Cross Validation\n",
    "   * Metrics (accuracy, precision, recall, f-score)\n",
    "   * Confusion Matrix (use heatmap for error analysis)\n",
    "   * Diagonistic Assesment (Bias-Variance tradeoff, Learning Curves)\n",
    "7. Custom Function(s) - code reuse\n",
    "8. CNN\n",
    "9. Transfer Learning (Fine Tuning)\n",
    "10. Choosing best model and submit predictions"
   ]
  },
  {
   "cell_type": "code",
   "execution_count": null,
   "id": "d4c75085",
   "metadata": {},
   "outputs": [],
   "source": []
  },
  {
   "cell_type": "markdown",
   "id": "d285744c",
   "metadata": {},
   "source": [
    "## 1. Data Ingestion and Split"
   ]
  },
  {
   "cell_type": "code",
   "execution_count": 1,
   "id": "af1ae48a",
   "metadata": {},
   "outputs": [],
   "source": [
    "# Lets import all the necessary libraries for this task first\n",
    "import numpy as np\n",
    "import pandas as pd\n",
    "import matplotlib.pyplot as plt\n",
    "%matplotlib inline"
   ]
  },
  {
   "cell_type": "code",
   "execution_count": 2,
   "id": "f68f2a4a",
   "metadata": {},
   "outputs": [],
   "source": [
    "data = pd.read_csv(\"train.csv\")"
   ]
  },
  {
   "cell_type": "code",
   "execution_count": 3,
   "id": "7579a26e",
   "metadata": {},
   "outputs": [
    {
     "data": {
      "text/html": [
       "<div>\n",
       "<style scoped>\n",
       "    .dataframe tbody tr th:only-of-type {\n",
       "        vertical-align: middle;\n",
       "    }\n",
       "\n",
       "    .dataframe tbody tr th {\n",
       "        vertical-align: top;\n",
       "    }\n",
       "\n",
       "    .dataframe thead th {\n",
       "        text-align: right;\n",
       "    }\n",
       "</style>\n",
       "<table border=\"1\" class=\"dataframe\">\n",
       "  <thead>\n",
       "    <tr style=\"text-align: right;\">\n",
       "      <th></th>\n",
       "      <th>label</th>\n",
       "      <th>pixel0</th>\n",
       "      <th>pixel1</th>\n",
       "      <th>pixel2</th>\n",
       "      <th>pixel3</th>\n",
       "      <th>pixel4</th>\n",
       "      <th>pixel5</th>\n",
       "      <th>pixel6</th>\n",
       "      <th>pixel7</th>\n",
       "      <th>pixel8</th>\n",
       "      <th>...</th>\n",
       "      <th>pixel774</th>\n",
       "      <th>pixel775</th>\n",
       "      <th>pixel776</th>\n",
       "      <th>pixel777</th>\n",
       "      <th>pixel778</th>\n",
       "      <th>pixel779</th>\n",
       "      <th>pixel780</th>\n",
       "      <th>pixel781</th>\n",
       "      <th>pixel782</th>\n",
       "      <th>pixel783</th>\n",
       "    </tr>\n",
       "  </thead>\n",
       "  <tbody>\n",
       "    <tr>\n",
       "      <th>0</th>\n",
       "      <td>1</td>\n",
       "      <td>0</td>\n",
       "      <td>0</td>\n",
       "      <td>0</td>\n",
       "      <td>0</td>\n",
       "      <td>0</td>\n",
       "      <td>0</td>\n",
       "      <td>0</td>\n",
       "      <td>0</td>\n",
       "      <td>0</td>\n",
       "      <td>...</td>\n",
       "      <td>0</td>\n",
       "      <td>0</td>\n",
       "      <td>0</td>\n",
       "      <td>0</td>\n",
       "      <td>0</td>\n",
       "      <td>0</td>\n",
       "      <td>0</td>\n",
       "      <td>0</td>\n",
       "      <td>0</td>\n",
       "      <td>0</td>\n",
       "    </tr>\n",
       "    <tr>\n",
       "      <th>1</th>\n",
       "      <td>0</td>\n",
       "      <td>0</td>\n",
       "      <td>0</td>\n",
       "      <td>0</td>\n",
       "      <td>0</td>\n",
       "      <td>0</td>\n",
       "      <td>0</td>\n",
       "      <td>0</td>\n",
       "      <td>0</td>\n",
       "      <td>0</td>\n",
       "      <td>...</td>\n",
       "      <td>0</td>\n",
       "      <td>0</td>\n",
       "      <td>0</td>\n",
       "      <td>0</td>\n",
       "      <td>0</td>\n",
       "      <td>0</td>\n",
       "      <td>0</td>\n",
       "      <td>0</td>\n",
       "      <td>0</td>\n",
       "      <td>0</td>\n",
       "    </tr>\n",
       "    <tr>\n",
       "      <th>2</th>\n",
       "      <td>1</td>\n",
       "      <td>0</td>\n",
       "      <td>0</td>\n",
       "      <td>0</td>\n",
       "      <td>0</td>\n",
       "      <td>0</td>\n",
       "      <td>0</td>\n",
       "      <td>0</td>\n",
       "      <td>0</td>\n",
       "      <td>0</td>\n",
       "      <td>...</td>\n",
       "      <td>0</td>\n",
       "      <td>0</td>\n",
       "      <td>0</td>\n",
       "      <td>0</td>\n",
       "      <td>0</td>\n",
       "      <td>0</td>\n",
       "      <td>0</td>\n",
       "      <td>0</td>\n",
       "      <td>0</td>\n",
       "      <td>0</td>\n",
       "    </tr>\n",
       "    <tr>\n",
       "      <th>3</th>\n",
       "      <td>4</td>\n",
       "      <td>0</td>\n",
       "      <td>0</td>\n",
       "      <td>0</td>\n",
       "      <td>0</td>\n",
       "      <td>0</td>\n",
       "      <td>0</td>\n",
       "      <td>0</td>\n",
       "      <td>0</td>\n",
       "      <td>0</td>\n",
       "      <td>...</td>\n",
       "      <td>0</td>\n",
       "      <td>0</td>\n",
       "      <td>0</td>\n",
       "      <td>0</td>\n",
       "      <td>0</td>\n",
       "      <td>0</td>\n",
       "      <td>0</td>\n",
       "      <td>0</td>\n",
       "      <td>0</td>\n",
       "      <td>0</td>\n",
       "    </tr>\n",
       "    <tr>\n",
       "      <th>4</th>\n",
       "      <td>0</td>\n",
       "      <td>0</td>\n",
       "      <td>0</td>\n",
       "      <td>0</td>\n",
       "      <td>0</td>\n",
       "      <td>0</td>\n",
       "      <td>0</td>\n",
       "      <td>0</td>\n",
       "      <td>0</td>\n",
       "      <td>0</td>\n",
       "      <td>...</td>\n",
       "      <td>0</td>\n",
       "      <td>0</td>\n",
       "      <td>0</td>\n",
       "      <td>0</td>\n",
       "      <td>0</td>\n",
       "      <td>0</td>\n",
       "      <td>0</td>\n",
       "      <td>0</td>\n",
       "      <td>0</td>\n",
       "      <td>0</td>\n",
       "    </tr>\n",
       "  </tbody>\n",
       "</table>\n",
       "<p>5 rows × 785 columns</p>\n",
       "</div>"
      ],
      "text/plain": [
       "   label  pixel0  pixel1  pixel2  pixel3  pixel4  pixel5  pixel6  pixel7  \\\n",
       "0      1       0       0       0       0       0       0       0       0   \n",
       "1      0       0       0       0       0       0       0       0       0   \n",
       "2      1       0       0       0       0       0       0       0       0   \n",
       "3      4       0       0       0       0       0       0       0       0   \n",
       "4      0       0       0       0       0       0       0       0       0   \n",
       "\n",
       "   pixel8  ...  pixel774  pixel775  pixel776  pixel777  pixel778  pixel779  \\\n",
       "0       0  ...         0         0         0         0         0         0   \n",
       "1       0  ...         0         0         0         0         0         0   \n",
       "2       0  ...         0         0         0         0         0         0   \n",
       "3       0  ...         0         0         0         0         0         0   \n",
       "4       0  ...         0         0         0         0         0         0   \n",
       "\n",
       "   pixel780  pixel781  pixel782  pixel783  \n",
       "0         0         0         0         0  \n",
       "1         0         0         0         0  \n",
       "2         0         0         0         0  \n",
       "3         0         0         0         0  \n",
       "4         0         0         0         0  \n",
       "\n",
       "[5 rows x 785 columns]"
      ]
     },
     "execution_count": 3,
     "metadata": {},
     "output_type": "execute_result"
    }
   ],
   "source": [
    "data.head()"
   ]
  },
  {
   "cell_type": "code",
   "execution_count": 4,
   "id": "b1d776fe",
   "metadata": {},
   "outputs": [
    {
     "data": {
      "text/plain": [
       "(42000, 785)"
      ]
     },
     "execution_count": 4,
     "metadata": {},
     "output_type": "execute_result"
    }
   ],
   "source": [
    "# Lets check the dimensions of our dataset next\n",
    "data.shape"
   ]
  },
  {
   "cell_type": "code",
   "execution_count": null,
   "id": "45cca6f6",
   "metadata": {},
   "outputs": [],
   "source": []
  },
  {
   "cell_type": "markdown",
   "id": "63d575b2",
   "metadata": {},
   "source": [
    "Next, lets split the data into train, val, and test sets. We will use stratified split incase our train, val, and test sets are not good representatives of the population."
   ]
  },
  {
   "cell_type": "code",
   "execution_count": 5,
   "id": "adb56574",
   "metadata": {},
   "outputs": [],
   "source": [
    "from sklearn.model_selection import train_test_split\n",
    "\n",
    "X = data.iloc[:,1:]\n",
    "y = data['label']\n",
    "\n",
    "X_train, X_test, y_train, y_test = train_test_split(X, y, test_size=0.3, random_state=42)\n",
    "X_val, X_test, y_val, y_test = train_test_split(X_test, y_test, test_size=0.3, random_state=42)"
   ]
  },
  {
   "cell_type": "code",
   "execution_count": null,
   "id": "38ab215c",
   "metadata": {},
   "outputs": [],
   "source": []
  },
  {
   "cell_type": "code",
   "execution_count": 6,
   "id": "52e56fc5",
   "metadata": {},
   "outputs": [
    {
     "data": {
      "text/html": [
       "<div>\n",
       "<style scoped>\n",
       "    .dataframe tbody tr th:only-of-type {\n",
       "        vertical-align: middle;\n",
       "    }\n",
       "\n",
       "    .dataframe tbody tr th {\n",
       "        vertical-align: top;\n",
       "    }\n",
       "\n",
       "    .dataframe thead th {\n",
       "        text-align: right;\n",
       "    }\n",
       "</style>\n",
       "<table border=\"1\" class=\"dataframe\">\n",
       "  <thead>\n",
       "    <tr style=\"text-align: right;\">\n",
       "      <th></th>\n",
       "      <th>y_train</th>\n",
       "      <th>y_val</th>\n",
       "      <th>y_test</th>\n",
       "    </tr>\n",
       "  </thead>\n",
       "  <tbody>\n",
       "    <tr>\n",
       "      <th>0</th>\n",
       "      <td>0.099728</td>\n",
       "      <td>0.096032</td>\n",
       "      <td>0.093386</td>\n",
       "    </tr>\n",
       "    <tr>\n",
       "      <th>1</th>\n",
       "      <td>0.112075</td>\n",
       "      <td>0.110091</td>\n",
       "      <td>0.110582</td>\n",
       "    </tr>\n",
       "    <tr>\n",
       "      <th>2</th>\n",
       "      <td>0.098061</td>\n",
       "      <td>0.103741</td>\n",
       "      <td>0.100265</td>\n",
       "    </tr>\n",
       "    <tr>\n",
       "      <th>3</th>\n",
       "      <td>0.101905</td>\n",
       "      <td>0.107029</td>\n",
       "      <td>0.108730</td>\n",
       "    </tr>\n",
       "    <tr>\n",
       "      <th>4</th>\n",
       "      <td>0.096939</td>\n",
       "      <td>0.099887</td>\n",
       "      <td>0.090212</td>\n",
       "    </tr>\n",
       "    <tr>\n",
       "      <th>5</th>\n",
       "      <td>0.092177</td>\n",
       "      <td>0.085374</td>\n",
       "      <td>0.087831</td>\n",
       "    </tr>\n",
       "    <tr>\n",
       "      <th>6</th>\n",
       "      <td>0.097993</td>\n",
       "      <td>0.099320</td>\n",
       "      <td>0.100529</td>\n",
       "    </tr>\n",
       "    <tr>\n",
       "      <th>7</th>\n",
       "      <td>0.103469</td>\n",
       "      <td>0.107483</td>\n",
       "      <td>0.108730</td>\n",
       "    </tr>\n",
       "    <tr>\n",
       "      <th>8</th>\n",
       "      <td>0.097075</td>\n",
       "      <td>0.093537</td>\n",
       "      <td>0.101587</td>\n",
       "    </tr>\n",
       "    <tr>\n",
       "      <th>9</th>\n",
       "      <td>0.100578</td>\n",
       "      <td>0.097506</td>\n",
       "      <td>0.098148</td>\n",
       "    </tr>\n",
       "  </tbody>\n",
       "</table>\n",
       "</div>"
      ],
      "text/plain": [
       "    y_train     y_val    y_test\n",
       "0  0.099728  0.096032  0.093386\n",
       "1  0.112075  0.110091  0.110582\n",
       "2  0.098061  0.103741  0.100265\n",
       "3  0.101905  0.107029  0.108730\n",
       "4  0.096939  0.099887  0.090212\n",
       "5  0.092177  0.085374  0.087831\n",
       "6  0.097993  0.099320  0.100529\n",
       "7  0.103469  0.107483  0.108730\n",
       "8  0.097075  0.093537  0.101587\n",
       "9  0.100578  0.097506  0.098148"
      ]
     },
     "execution_count": 6,
     "metadata": {},
     "output_type": "execute_result"
    }
   ],
   "source": [
    "# Lets examine if our distinct sets are goods samples\n",
    "perc = list()\n",
    "for y in [y_train, y_val, y_test]:\n",
    "    perc.append(y.value_counts(normalize=True).sort_index())\n",
    "pd.DataFrame(np.array(perc).T, columns=['y_train', 'y_val', 'y_test'])"
   ]
  },
  {
   "cell_type": "markdown",
   "id": "dda04a38",
   "metadata": {},
   "source": [
    "Indeed, all of the sets are good representatives of the population. Therefore, we can move on to next task. Otherwise, we could have use StratifiedShuffleSplit from sklearn's model_selection module."
   ]
  },
  {
   "cell_type": "code",
   "execution_count": null,
   "id": "3039eeab",
   "metadata": {},
   "outputs": [],
   "source": []
  },
  {
   "cell_type": "markdown",
   "id": "f73da424",
   "metadata": {},
   "source": [
    "So good practice is to hold the test data to the very end of our work and never explore it. Lets quickly look at the size of these sets next."
   ]
  },
  {
   "cell_type": "code",
   "execution_count": 7,
   "id": "c3590dac",
   "metadata": {},
   "outputs": [
    {
     "name": "stdout",
     "output_type": "stream",
     "text": [
      "Training set: 29400\n",
      "Validation set: 8820\n",
      "Training set: 3780\n"
     ]
    }
   ],
   "source": [
    "print(f\"Training set: {X_train.shape[0]}\")\n",
    "print(f\"Validation set: {X_val.shape[0]}\")\n",
    "print(f\"Training set: {X_test.shape[0]}\")"
   ]
  },
  {
   "cell_type": "code",
   "execution_count": null,
   "id": "2305ae8a",
   "metadata": {},
   "outputs": [],
   "source": []
  },
  {
   "cell_type": "code",
   "execution_count": null,
   "id": "6756cccc",
   "metadata": {},
   "outputs": [],
   "source": []
  },
  {
   "cell_type": "markdown",
   "id": "17b8a8f3",
   "metadata": {},
   "source": [
    "## 2.EDA"
   ]
  },
  {
   "cell_type": "code",
   "execution_count": 8,
   "id": "87dbe0e1",
   "metadata": {},
   "outputs": [
    {
     "name": "stdout",
     "output_type": "stream",
     "text": [
      "<class 'pandas.core.frame.DataFrame'>\n",
      "Int64Index: 29400 entries, 15673 to 15795\n",
      "Columns: 784 entries, pixel0 to pixel783\n",
      "dtypes: int64(784)\n",
      "memory usage: 176.1 MB\n"
     ]
    }
   ],
   "source": [
    "X_train.info()"
   ]
  },
  {
   "cell_type": "code",
   "execution_count": 9,
   "id": "5208f0a2",
   "metadata": {},
   "outputs": [
    {
     "name": "stdout",
     "output_type": "stream",
     "text": [
      "# of Rows: 29400\n",
      "# of Columns: 784\n"
     ]
    }
   ],
   "source": [
    "print(f\"# of Rows: {X_train.shape[0]}\")\n",
    "print(f\"# of Columns: {X_train.shape[1]}\")"
   ]
  },
  {
   "cell_type": "code",
   "execution_count": 10,
   "id": "cb1bec77",
   "metadata": {},
   "outputs": [
    {
     "data": {
      "text/html": [
       "<div>\n",
       "<style scoped>\n",
       "    .dataframe tbody tr th:only-of-type {\n",
       "        vertical-align: middle;\n",
       "    }\n",
       "\n",
       "    .dataframe tbody tr th {\n",
       "        vertical-align: top;\n",
       "    }\n",
       "\n",
       "    .dataframe thead th {\n",
       "        text-align: right;\n",
       "    }\n",
       "</style>\n",
       "<table border=\"1\" class=\"dataframe\">\n",
       "  <thead>\n",
       "    <tr style=\"text-align: right;\">\n",
       "      <th></th>\n",
       "      <th>pixel0</th>\n",
       "      <th>pixel1</th>\n",
       "      <th>pixel2</th>\n",
       "      <th>pixel3</th>\n",
       "      <th>pixel4</th>\n",
       "      <th>pixel5</th>\n",
       "      <th>pixel6</th>\n",
       "      <th>pixel7</th>\n",
       "      <th>pixel8</th>\n",
       "      <th>pixel9</th>\n",
       "      <th>...</th>\n",
       "      <th>pixel774</th>\n",
       "      <th>pixel775</th>\n",
       "      <th>pixel776</th>\n",
       "      <th>pixel777</th>\n",
       "      <th>pixel778</th>\n",
       "      <th>pixel779</th>\n",
       "      <th>pixel780</th>\n",
       "      <th>pixel781</th>\n",
       "      <th>pixel782</th>\n",
       "      <th>pixel783</th>\n",
       "    </tr>\n",
       "  </thead>\n",
       "  <tbody>\n",
       "    <tr>\n",
       "      <th>count</th>\n",
       "      <td>29400.0</td>\n",
       "      <td>29400.0</td>\n",
       "      <td>29400.0</td>\n",
       "      <td>29400.0</td>\n",
       "      <td>29400.0</td>\n",
       "      <td>29400.0</td>\n",
       "      <td>29400.0</td>\n",
       "      <td>29400.0</td>\n",
       "      <td>29400.0</td>\n",
       "      <td>29400.0</td>\n",
       "      <td>...</td>\n",
       "      <td>29400.000000</td>\n",
       "      <td>29400.000000</td>\n",
       "      <td>29400.000000</td>\n",
       "      <td>29400.000000</td>\n",
       "      <td>29400.000000</td>\n",
       "      <td>29400.000000</td>\n",
       "      <td>29400.0</td>\n",
       "      <td>29400.0</td>\n",
       "      <td>29400.0</td>\n",
       "      <td>29400.0</td>\n",
       "    </tr>\n",
       "    <tr>\n",
       "      <th>mean</th>\n",
       "      <td>0.0</td>\n",
       "      <td>0.0</td>\n",
       "      <td>0.0</td>\n",
       "      <td>0.0</td>\n",
       "      <td>0.0</td>\n",
       "      <td>0.0</td>\n",
       "      <td>0.0</td>\n",
       "      <td>0.0</td>\n",
       "      <td>0.0</td>\n",
       "      <td>0.0</td>\n",
       "      <td>...</td>\n",
       "      <td>0.213980</td>\n",
       "      <td>0.115272</td>\n",
       "      <td>0.069728</td>\n",
       "      <td>0.028469</td>\n",
       "      <td>0.019388</td>\n",
       "      <td>0.004082</td>\n",
       "      <td>0.0</td>\n",
       "      <td>0.0</td>\n",
       "      <td>0.0</td>\n",
       "      <td>0.0</td>\n",
       "    </tr>\n",
       "    <tr>\n",
       "      <th>std</th>\n",
       "      <td>0.0</td>\n",
       "      <td>0.0</td>\n",
       "      <td>0.0</td>\n",
       "      <td>0.0</td>\n",
       "      <td>0.0</td>\n",
       "      <td>0.0</td>\n",
       "      <td>0.0</td>\n",
       "      <td>0.0</td>\n",
       "      <td>0.0</td>\n",
       "      <td>0.0</td>\n",
       "      <td>...</td>\n",
       "      <td>6.354561</td>\n",
       "      <td>4.467579</td>\n",
       "      <td>3.651858</td>\n",
       "      <td>2.102425</td>\n",
       "      <td>2.078635</td>\n",
       "      <td>0.495138</td>\n",
       "      <td>0.0</td>\n",
       "      <td>0.0</td>\n",
       "      <td>0.0</td>\n",
       "      <td>0.0</td>\n",
       "    </tr>\n",
       "    <tr>\n",
       "      <th>min</th>\n",
       "      <td>0.0</td>\n",
       "      <td>0.0</td>\n",
       "      <td>0.0</td>\n",
       "      <td>0.0</td>\n",
       "      <td>0.0</td>\n",
       "      <td>0.0</td>\n",
       "      <td>0.0</td>\n",
       "      <td>0.0</td>\n",
       "      <td>0.0</td>\n",
       "      <td>0.0</td>\n",
       "      <td>...</td>\n",
       "      <td>0.000000</td>\n",
       "      <td>0.000000</td>\n",
       "      <td>0.000000</td>\n",
       "      <td>0.000000</td>\n",
       "      <td>0.000000</td>\n",
       "      <td>0.000000</td>\n",
       "      <td>0.0</td>\n",
       "      <td>0.0</td>\n",
       "      <td>0.0</td>\n",
       "      <td>0.0</td>\n",
       "    </tr>\n",
       "    <tr>\n",
       "      <th>25%</th>\n",
       "      <td>0.0</td>\n",
       "      <td>0.0</td>\n",
       "      <td>0.0</td>\n",
       "      <td>0.0</td>\n",
       "      <td>0.0</td>\n",
       "      <td>0.0</td>\n",
       "      <td>0.0</td>\n",
       "      <td>0.0</td>\n",
       "      <td>0.0</td>\n",
       "      <td>0.0</td>\n",
       "      <td>...</td>\n",
       "      <td>0.000000</td>\n",
       "      <td>0.000000</td>\n",
       "      <td>0.000000</td>\n",
       "      <td>0.000000</td>\n",
       "      <td>0.000000</td>\n",
       "      <td>0.000000</td>\n",
       "      <td>0.0</td>\n",
       "      <td>0.0</td>\n",
       "      <td>0.0</td>\n",
       "      <td>0.0</td>\n",
       "    </tr>\n",
       "    <tr>\n",
       "      <th>50%</th>\n",
       "      <td>0.0</td>\n",
       "      <td>0.0</td>\n",
       "      <td>0.0</td>\n",
       "      <td>0.0</td>\n",
       "      <td>0.0</td>\n",
       "      <td>0.0</td>\n",
       "      <td>0.0</td>\n",
       "      <td>0.0</td>\n",
       "      <td>0.0</td>\n",
       "      <td>0.0</td>\n",
       "      <td>...</td>\n",
       "      <td>0.000000</td>\n",
       "      <td>0.000000</td>\n",
       "      <td>0.000000</td>\n",
       "      <td>0.000000</td>\n",
       "      <td>0.000000</td>\n",
       "      <td>0.000000</td>\n",
       "      <td>0.0</td>\n",
       "      <td>0.0</td>\n",
       "      <td>0.0</td>\n",
       "      <td>0.0</td>\n",
       "    </tr>\n",
       "    <tr>\n",
       "      <th>75%</th>\n",
       "      <td>0.0</td>\n",
       "      <td>0.0</td>\n",
       "      <td>0.0</td>\n",
       "      <td>0.0</td>\n",
       "      <td>0.0</td>\n",
       "      <td>0.0</td>\n",
       "      <td>0.0</td>\n",
       "      <td>0.0</td>\n",
       "      <td>0.0</td>\n",
       "      <td>0.0</td>\n",
       "      <td>...</td>\n",
       "      <td>0.000000</td>\n",
       "      <td>0.000000</td>\n",
       "      <td>0.000000</td>\n",
       "      <td>0.000000</td>\n",
       "      <td>0.000000</td>\n",
       "      <td>0.000000</td>\n",
       "      <td>0.0</td>\n",
       "      <td>0.0</td>\n",
       "      <td>0.0</td>\n",
       "      <td>0.0</td>\n",
       "    </tr>\n",
       "    <tr>\n",
       "      <th>max</th>\n",
       "      <td>0.0</td>\n",
       "      <td>0.0</td>\n",
       "      <td>0.0</td>\n",
       "      <td>0.0</td>\n",
       "      <td>0.0</td>\n",
       "      <td>0.0</td>\n",
       "      <td>0.0</td>\n",
       "      <td>0.0</td>\n",
       "      <td>0.0</td>\n",
       "      <td>0.0</td>\n",
       "      <td>...</td>\n",
       "      <td>254.000000</td>\n",
       "      <td>254.000000</td>\n",
       "      <td>253.000000</td>\n",
       "      <td>253.000000</td>\n",
       "      <td>254.000000</td>\n",
       "      <td>62.000000</td>\n",
       "      <td>0.0</td>\n",
       "      <td>0.0</td>\n",
       "      <td>0.0</td>\n",
       "      <td>0.0</td>\n",
       "    </tr>\n",
       "  </tbody>\n",
       "</table>\n",
       "<p>8 rows × 784 columns</p>\n",
       "</div>"
      ],
      "text/plain": [
       "        pixel0   pixel1   pixel2   pixel3   pixel4   pixel5   pixel6   pixel7  \\\n",
       "count  29400.0  29400.0  29400.0  29400.0  29400.0  29400.0  29400.0  29400.0   \n",
       "mean       0.0      0.0      0.0      0.0      0.0      0.0      0.0      0.0   \n",
       "std        0.0      0.0      0.0      0.0      0.0      0.0      0.0      0.0   \n",
       "min        0.0      0.0      0.0      0.0      0.0      0.0      0.0      0.0   \n",
       "25%        0.0      0.0      0.0      0.0      0.0      0.0      0.0      0.0   \n",
       "50%        0.0      0.0      0.0      0.0      0.0      0.0      0.0      0.0   \n",
       "75%        0.0      0.0      0.0      0.0      0.0      0.0      0.0      0.0   \n",
       "max        0.0      0.0      0.0      0.0      0.0      0.0      0.0      0.0   \n",
       "\n",
       "        pixel8   pixel9  ...      pixel774      pixel775      pixel776  \\\n",
       "count  29400.0  29400.0  ...  29400.000000  29400.000000  29400.000000   \n",
       "mean       0.0      0.0  ...      0.213980      0.115272      0.069728   \n",
       "std        0.0      0.0  ...      6.354561      4.467579      3.651858   \n",
       "min        0.0      0.0  ...      0.000000      0.000000      0.000000   \n",
       "25%        0.0      0.0  ...      0.000000      0.000000      0.000000   \n",
       "50%        0.0      0.0  ...      0.000000      0.000000      0.000000   \n",
       "75%        0.0      0.0  ...      0.000000      0.000000      0.000000   \n",
       "max        0.0      0.0  ...    254.000000    254.000000    253.000000   \n",
       "\n",
       "           pixel777      pixel778      pixel779  pixel780  pixel781  pixel782  \\\n",
       "count  29400.000000  29400.000000  29400.000000   29400.0   29400.0   29400.0   \n",
       "mean       0.028469      0.019388      0.004082       0.0       0.0       0.0   \n",
       "std        2.102425      2.078635      0.495138       0.0       0.0       0.0   \n",
       "min        0.000000      0.000000      0.000000       0.0       0.0       0.0   \n",
       "25%        0.000000      0.000000      0.000000       0.0       0.0       0.0   \n",
       "50%        0.000000      0.000000      0.000000       0.0       0.0       0.0   \n",
       "75%        0.000000      0.000000      0.000000       0.0       0.0       0.0   \n",
       "max      253.000000    254.000000     62.000000       0.0       0.0       0.0   \n",
       "\n",
       "       pixel783  \n",
       "count   29400.0  \n",
       "mean        0.0  \n",
       "std         0.0  \n",
       "min         0.0  \n",
       "25%         0.0  \n",
       "50%         0.0  \n",
       "75%         0.0  \n",
       "max         0.0  \n",
       "\n",
       "[8 rows x 784 columns]"
      ]
     },
     "execution_count": 10,
     "metadata": {},
     "output_type": "execute_result"
    }
   ],
   "source": [
    "X_train.describe()"
   ]
  },
  {
   "cell_type": "markdown",
   "id": "c4fa339e",
   "metadata": {},
   "source": [
    "It seems like most the valuable information is located in only a subset of feature space. Therefore, it might be worth running some dimensionaly reduction techniques like PCA. Lets confirm this trend by visualizing a small sample of the data next."
   ]
  },
  {
   "cell_type": "code",
   "execution_count": null,
   "id": "e0f6ebc6",
   "metadata": {},
   "outputs": [],
   "source": []
  },
  {
   "cell_type": "code",
   "execution_count": 11,
   "id": "18589cc4",
   "metadata": {},
   "outputs": [],
   "source": [
    "sample_index = np.random.choice(range(29400), 10).tolist()\n",
    "sample = X_train.iloc[sample_index,:]"
   ]
  },
  {
   "cell_type": "code",
   "execution_count": 12,
   "id": "65b3a196",
   "metadata": {},
   "outputs": [
    {
     "data": {
      "image/png": "[encoded data removed]",
      "text/plain": [
       "<Figure size 1152x1152 with 10 Axes>"
      ]
     },
     "metadata": {
      "needs_background": "light"
     },
     "output_type": "display_data"
    }
   ],
   "source": [
    "sample_clean = np.array(sample).reshape(10,28,28)\n",
    "fig, axs = plt.subplots(ncols=10, sharey=True,figsize=(16,16))\n",
    "for i,img in enumerate(sample_clean):\n",
    "    axs[i].imshow(img)"
   ]
  },
  {
   "cell_type": "markdown",
   "id": "ce51d4b8",
   "metadata": {},
   "source": [
    "Cool, our predictions is true. Hence, it will be worthwhile to implement PCA in practice in the data cleaning step. "
   ]
  },
  {
   "cell_type": "code",
   "execution_count": null,
   "id": "d910000b",
   "metadata": {},
   "outputs": [],
   "source": []
  },
  {
   "cell_type": "markdown",
   "id": "7ba3c176",
   "metadata": {},
   "source": [
    "## 3.Data Cleaning"
   ]
  },
  {
   "cell_type": "code",
   "execution_count": 13,
   "id": "72ac903c",
   "metadata": {},
   "outputs": [],
   "source": [
    "# # First of all, lets scale the features\n",
    "# from sklearn.preprocessing import StandardScaler\n",
    "# scaler = StandardScaler()\n",
    "# X_train = scaler.fit_transform(X_train)"
   ]
  },
  {
   "cell_type": "code",
   "execution_count": null,
   "id": "5d7d9888",
   "metadata": {},
   "outputs": [],
   "source": []
  },
  {
   "cell_type": "code",
   "execution_count": 14,
   "id": "e84fb790",
   "metadata": {},
   "outputs": [],
   "source": [
    "# # Dimensionality Reduction\n",
    "# from sklearn.decomposition import PCA\n",
    "# pca = PCA(n_components=0.95)\n",
    "# pca.fit(X_train)"
   ]
  },
  {
   "cell_type": "code",
   "execution_count": 15,
   "id": "b8d58f60",
   "metadata": {},
   "outputs": [],
   "source": [
    "# X_train = pca.transform(X_train)\n",
    "# X_train.shape"
   ]
  },
  {
   "cell_type": "code",
   "execution_count": null,
   "id": "5cef550f",
   "metadata": {},
   "outputs": [],
   "source": []
  },
  {
   "cell_type": "code",
   "execution_count": null,
   "id": "5ab24692",
   "metadata": {},
   "outputs": [],
   "source": []
  },
  {
   "cell_type": "markdown",
   "id": "1da6c119",
   "metadata": {},
   "source": [
    "## 4.Data Pipelines"
   ]
  },
  {
   "cell_type": "markdown",
   "id": "c26444d3",
   "metadata": {},
   "source": [
    "Alternatively, we can build pipelines for data cleaning or transformatoin tasks. Indeed, it is the recommended way and we will stick to it next."
   ]
  },
  {
   "cell_type": "code",
   "execution_count": 16,
   "id": "9f838f85",
   "metadata": {},
   "outputs": [],
   "source": [
    "from sklearn.preprocessing import StandardScaler\n",
    "from sklearn.decomposition import PCA\n",
    "\n",
    "from sklearn.pipeline import Pipeline\n",
    "pipeline = Pipeline([\n",
    "    (\"scaler\", StandardScaler()),\n",
    "    (\"pca\", PCA(n_components=0.95))\n",
    "])"
   ]
  },
  {
   "cell_type": "code",
   "execution_count": 17,
   "id": "d9b760b3",
   "metadata": {},
   "outputs": [],
   "source": [
    "X_train = pipeline.fit_transform(X_train)"
   ]
  },
  {
   "cell_type": "markdown",
   "id": "5f5c13fc",
   "metadata": {},
   "source": [
    "We can play with the hyparameter n_components later on to find its best value for this problem."
   ]
  },
  {
   "cell_type": "code",
   "execution_count": null,
   "id": "d71ce018",
   "metadata": {},
   "outputs": [],
   "source": []
  },
  {
   "cell_type": "code",
   "execution_count": null,
   "id": "49f42a6c",
   "metadata": {},
   "outputs": [],
   "source": []
  },
  {
   "cell_type": "markdown",
   "id": "ed4c6c1b",
   "metadata": {},
   "source": [
    "## 5.Train Distinct ML Models"
   ]
  },
  {
   "cell_type": "markdown",
   "id": "fa708d29",
   "metadata": {},
   "source": [
    "Lets start with perhaps the simplest of all, the perceptron model. For now we will stick with just one model. Perform model evaluation and hyperparameter tuning. Then, once we build a custom function to train and evaluate distinct models simultaneously, we will come back and give a shot to other ml models too without having to type all the lines of code again and over."
   ]
  },
  {
   "cell_type": "code",
   "execution_count": 18,
   "id": "4caa4623",
   "metadata": {},
   "outputs": [],
   "source": [
    "from sklearn.linear_model import SGDClassifier"
   ]
  },
  {
   "cell_type": "code",
   "execution_count": 19,
   "id": "89019d25",
   "metadata": {},
   "outputs": [],
   "source": [
    "# As this is a multiclass problem, we will use sklearn OvR techinique as generalization of binary classification\n",
    "from sklearn.multiclass import OneVsRestClassifier"
   ]
  },
  {
   "cell_type": "code",
   "execution_count": 20,
   "id": "340f65b7",
   "metadata": {},
   "outputs": [],
   "source": [
    "lin_clf = OneVsRestClassifier(SGDClassifier(loss='perceptron', max_iter=2000))"
   ]
  },
  {
   "cell_type": "code",
   "execution_count": 21,
   "id": "4653c4b9",
   "metadata": {},
   "outputs": [
    {
     "data": {
      "text/plain": [
       "OneVsRestClassifier(estimator=SGDClassifier(loss='perceptron', max_iter=2000))"
      ]
     },
     "execution_count": 21,
     "metadata": {},
     "output_type": "execute_result"
    }
   ],
   "source": [
    "lin_clf.fit(X_train, y_train)"
   ]
  },
  {
   "cell_type": "code",
   "execution_count": null,
   "id": "97628105",
   "metadata": {},
   "outputs": [],
   "source": []
  },
  {
   "cell_type": "code",
   "execution_count": null,
   "id": "ad5576b5",
   "metadata": {},
   "outputs": [],
   "source": []
  },
  {
   "cell_type": "markdown",
   "id": "032b1a37",
   "metadata": {},
   "source": [
    "## 6. Model Evaluation"
   ]
  },
  {
   "cell_type": "markdown",
   "id": "eb7539f0",
   "metadata": {},
   "source": [
    "Next, lets evaluate this simple model."
   ]
  },
  {
   "cell_type": "code",
   "execution_count": 22,
   "id": "dfde2392",
   "metadata": {},
   "outputs": [],
   "source": [
    "train_predictions = lin_clf.predict(X_train)"
   ]
  },
  {
   "cell_type": "code",
   "execution_count": 23,
   "id": "848d6d76",
   "metadata": {},
   "outputs": [],
   "source": [
    "X_val_prepared = pipeline.transform(X_val)\n",
    "val_predictions = lin_clf.predict(X_val_prepared)"
   ]
  },
  {
   "cell_type": "code",
   "execution_count": 24,
   "id": "7cc8f38f",
   "metadata": {},
   "outputs": [
    {
     "name": "stdout",
     "output_type": "stream",
     "text": [
      "Training Accuracy:0.915578231292517\n",
      "Validation Accuracy:0.9019274376417233\n"
     ]
    }
   ],
   "source": [
    "from sklearn.metrics import accuracy_score\n",
    "print(f\"Training Accuracy:{accuracy_score(y_train, train_predictions)}\")\n",
    "print(f\"Validation Accuracy:{accuracy_score(y_val, val_predictions)}\")"
   ]
  },
  {
   "cell_type": "markdown",
   "id": "4798d527",
   "metadata": {},
   "source": [
    "It seems like our model overfits a bit. We will confirm soon using a technique called cross-validation."
   ]
  },
  {
   "cell_type": "code",
   "execution_count": null,
   "id": "2f69bc6d",
   "metadata": {},
   "outputs": [],
   "source": []
  },
  {
   "cell_type": "markdown",
   "id": "e1991e99",
   "metadata": {},
   "source": [
    "### Other Classification Metrics"
   ]
  },
  {
   "cell_type": "markdown",
   "id": "32d3ecf2",
   "metadata": {},
   "source": [
    "The other key classification metrics are precision_score, recall_score, and f1_score which work well in the binary case. For simpilicity, we will stick with accuracy for now."
   ]
  },
  {
   "cell_type": "code",
   "execution_count": null,
   "id": "9506ddeb",
   "metadata": {},
   "outputs": [],
   "source": []
  },
  {
   "cell_type": "markdown",
   "id": "f4d81d8d",
   "metadata": {},
   "source": [
    "### Learning Curves"
   ]
  },
  {
   "cell_type": "markdown",
   "id": "2bf34ace",
   "metadata": {},
   "source": [
    "The following script is just to hide jupyter warnings. No need to go into details."
   ]
  },
  {
   "cell_type": "code",
   "execution_count": 25,
   "id": "6d2ab22d",
   "metadata": {},
   "outputs": [],
   "source": [
    "import warnings\n",
    "warnings.filterwarnings('ignore')"
   ]
  },
  {
   "cell_type": "code",
   "execution_count": 26,
   "id": "4aadd150",
   "metadata": {
    "scrolled": true
   },
   "outputs": [],
   "source": [
    "train_error = list()\n",
    "val_error = list()\n",
    "\n",
    "X_val_prepared = pipeline.transform(X_val)\n",
    "for i in range(1,len(X_train)//10):\n",
    "    lin_clf = OneVsRestClassifier(SGDClassifier(loss='perceptron', max_iter=1))\n",
    "    lin_clf.fit(X_train[0:i], y_train[0:i])\n",
    "    train_predictions = lin_clf.predict(X_train[0:i])\n",
    "    val_predictions = lin_clf.predict(X_val_prepared)\n",
    "    \n",
    "    train_error.append(1-accuracy_score(y_train[0:i], train_predictions))\n",
    "    val_error.append(1-accuracy_score(y_val, val_predictions))"
   ]
  },
  {
   "cell_type": "code",
   "execution_count": null,
   "id": "d0f3f071",
   "metadata": {},
   "outputs": [],
   "source": []
  },
  {
   "cell_type": "code",
   "execution_count": 27,
   "id": "e63eef7e",
   "metadata": {},
   "outputs": [
    {
     "data": {
      "image/png": "[encoded data removed]",
      "text/plain": [
       "<Figure size 864x864 with 1 Axes>"
      ]
     },
     "metadata": {
      "needs_background": "light"
     },
     "output_type": "display_data"
    }
   ],
   "source": [
    "x = range(len(X_train)//10-1)\n",
    "plt.figure(figsize=(12,12))\n",
    "plt.plot(x, train_error, color='red', label='train_error')\n",
    "plt.plot(x, val_error, color='blue', label='val_error')\n",
    "plt.xlabel(\"Number of Iterations\")\n",
    "plt.ylabel(\"Error\")\n",
    "plt.legend()\n",
    "plt.show()"
   ]
  },
  {
   "cell_type": "code",
   "execution_count": null,
   "id": "edb37cd2",
   "metadata": {},
   "outputs": [],
   "source": []
  },
  {
   "cell_type": "markdown",
   "id": "f1d5eab5",
   "metadata": {},
   "source": [
    "### Cross Validation"
   ]
  },
  {
   "cell_type": "code",
   "execution_count": 28,
   "id": "ed020b7a",
   "metadata": {},
   "outputs": [],
   "source": [
    "# We can also use cross-validation to get a sense how well our model generalizes\n",
    "from sklearn.model_selection import cross_val_score\n",
    "cvs = cross_val_score(lin_clf, X_train, y_train, scoring=\"accuracy\", cv=10)"
   ]
  },
  {
   "cell_type": "code",
   "execution_count": 29,
   "id": "3d27a812",
   "metadata": {},
   "outputs": [
    {
     "data": {
      "text/plain": [
       "0.9011224489795918"
      ]
     },
     "execution_count": 29,
     "metadata": {},
     "output_type": "execute_result"
    }
   ],
   "source": [
    "cvs.mean()"
   ]
  },
  {
   "cell_type": "code",
   "execution_count": null,
   "id": "2b25fc45",
   "metadata": {},
   "outputs": [],
   "source": []
  },
  {
   "cell_type": "markdown",
   "id": "d9aa378f",
   "metadata": {},
   "source": [
    "### Confusion Matrix"
   ]
  },
  {
   "cell_type": "code",
   "execution_count": 30,
   "id": "7b46d71e",
   "metadata": {},
   "outputs": [
    {
     "data": {
      "text/plain": [
       "array([[744,   0,  12,  10,  10,  28,   9,  13,  20,   1],\n",
       "       [  1, 909,  10,   4,   0,   6,   2,   1,  37,   1],\n",
       "       [  6,   9, 699,  18,  21,  12,  21,  41,  75,  13],\n",
       "       [  2,   7,  58, 696,  11,  69,   8,  43,  34,  16],\n",
       "       [  3,   9,   5,   4, 732,   8,  58,   0,  12,  50],\n",
       "       [ 27,   3,  17,  39,  26, 574,  24,  12,  24,   7],\n",
       "       [ 13,   3,  20,  16,  21,   8, 775,   3,  14,   3],\n",
       "       [ 16,  48,   5,  28,  23,  11,   7, 736,   5,  69],\n",
       "       [  5,  28,  28,  38,  16,  63,  11,   9, 600,  27],\n",
       "       [ 12,  21,   2,  19,  42,  27,  22,  57,  16, 642]])"
      ]
     },
     "execution_count": 30,
     "metadata": {},
     "output_type": "execute_result"
    }
   ],
   "source": [
    "from sklearn.metrics import confusion_matrix\n",
    "confusion_matrix(y_val, val_predictions)"
   ]
  },
  {
   "cell_type": "code",
   "execution_count": 31,
   "id": "aeb0b5e6",
   "metadata": {},
   "outputs": [
    {
     "data": {
      "image/png": "[encoded data removed]",
      "text/plain": [
       "<Figure size 432x288 with 2 Axes>"
      ]
     },
     "metadata": {
      "needs_background": "light"
     },
     "output_type": "display_data"
    }
   ],
   "source": [
    "# Let's visualize this matrix using heatmap\n",
    "import seaborn as sns\n",
    "sns.heatmap(confusion_matrix(y_val, val_predictions))\n",
    "plt.show()"
   ]
  },
  {
   "cell_type": "markdown",
   "id": "53e87893",
   "metadata": {},
   "source": [
    "Hmm. Not very informative. Lets try to fill the diagonal entries with 0s, normalize rest of the entries, and then analyse the error."
   ]
  },
  {
   "cell_type": "code",
   "execution_count": 32,
   "id": "042ba4d8",
   "metadata": {},
   "outputs": [
    {
     "data": {
      "image/png": "[encoded data removed]",
      "text/plain": [
       "<Figure size 1152x864 with 2 Axes>"
      ]
     },
     "metadata": {
      "needs_background": "light"
     },
     "output_type": "display_data"
    }
   ],
   "source": [
    "cm = confusion_matrix(y_val, val_predictions)\n",
    "norm_cm = cm/cm.sum(axis=1, keepdims=True)\n",
    "np.fill_diagonal(norm_cm, 0)\n",
    "\n",
    "plt.figure(figsize=(16,12))\n",
    "sns.heatmap(norm_cm)\n",
    "plt.show()"
   ]
  },
  {
   "cell_type": "markdown",
   "id": "cb4df51f",
   "metadata": {},
   "source": [
    "Here we can see that 3 and 5 were often confused. Also, many images have been misclassified as 9."
   ]
  },
  {
   "cell_type": "code",
   "execution_count": null,
   "id": "66519f94",
   "metadata": {},
   "outputs": [],
   "source": []
  },
  {
   "cell_type": "code",
   "execution_count": null,
   "id": "795b747c",
   "metadata": {},
   "outputs": [],
   "source": []
  },
  {
   "cell_type": "markdown",
   "id": "51102339",
   "metadata": {},
   "source": [
    "## 7.Custom Function(s)"
   ]
  },
  {
   "cell_type": "code",
   "execution_count": 33,
   "id": "1565d366",
   "metadata": {},
   "outputs": [],
   "source": [
    "def classify_digits(classifier, train_x, train_y, test_x, test_y, iterations, params):\n",
    "    # Data Preparation\n",
    "    train_x = pipeline.fit_transform(train_x)\n",
    "    test_x = pipeline.transform(test_x)\n",
    "    \n",
    "    # Grid Search Cross Validation\n",
    "    from sklearn.model_selection import GridSearchCV\n",
    "    gs_cv = GridSearchCV(classifier, param_grid=params, scoring=\"accuracy\", cv=3, refit=True)\n",
    "    gs_cv.fit(train_x, train_y)\n",
    "    \n",
    "    # Training Model\n",
    "    gs_cv.fit(train_x, train_y)\n",
    "    \n",
    "    # Model Predictions\n",
    "    train_predictions = gs_cv.predict(train_x)\n",
    "    test_predictions = gs_cv.predict(test_x)\n",
    "    \n",
    "    # Model Evaluation\n",
    "    print(\"Accuracy Scores:\")\n",
    "    print(f\"Training Accuracy:{accuracy_score(train_y, train_predictions)}\")\n",
    "    print(f\"Validation Accuracy:{accuracy_score(test_y, test_predictions)}\")\n",
    "    print(\"\")\n",
    "    \n",
    "    # Cross Validation\n",
    "    cv = cross_val_score(gs_cv, train_x, train_y, scoring=\"accuracy\", cv=3)\n",
    "    print(f\"Cross Validation Accuracy: {cv.mean()}\")\n",
    "    \n",
    "    # Confusion Matrix\n",
    "    cm = confusion_matrix(test_y, test_predictions)\n",
    "    norm_cm = cm/cm.sum(axis=1, keepdims=True)\n",
    "    np.fill_diagonal(norm_cm, 0)\n",
    "\n",
    "    plt.figure(figsize=(10,8))\n",
    "    sns.heatmap(norm_cm)\n",
    "    plt.show()"
   ]
  },
  {
   "cell_type": "code",
   "execution_count": null,
   "id": "bee9a01f",
   "metadata": {},
   "outputs": [],
   "source": []
  },
  {
   "cell_type": "markdown",
   "id": "a580049c",
   "metadata": {},
   "source": [
    "As we are going to run everything from scratch, lets make sure we have the data in the raw format next."
   ]
  },
  {
   "cell_type": "code",
   "execution_count": 34,
   "id": "5ee946b8",
   "metadata": {},
   "outputs": [],
   "source": [
    "from sklearn.model_selection import train_test_split\n",
    "\n",
    "X = data.iloc[:,1:]\n",
    "y = data['label']\n",
    "\n",
    "X_train, X_test, y_train, y_test = train_test_split(X, y, test_size=0.3, random_state=42)\n",
    "X_val, X_test, y_val, y_test = train_test_split(X_test, y_test, test_size=0.3, random_state=42)"
   ]
  },
  {
   "cell_type": "code",
   "execution_count": null,
   "id": "8c12d361",
   "metadata": {},
   "outputs": [],
   "source": []
  },
  {
   "cell_type": "markdown",
   "id": "5801cad2",
   "metadata": {},
   "source": [
    "### a. Perceptron Model"
   ]
  },
  {
   "cell_type": "code",
   "execution_count": 35,
   "id": "cfec169b",
   "metadata": {},
   "outputs": [],
   "source": [
    "# Define Model\n",
    "from sklearn.linear_model import SGDClassifier\n",
    "lm = SGDClassifier(loss='perceptron')\n",
    "\n",
    "from sklearn.multiclass import OneVsRestClassifier\n",
    "lin_clf = OneVsRestClassifier(lm)"
   ]
  },
  {
   "cell_type": "code",
   "execution_count": 36,
   "id": "b45f81a8",
   "metadata": {},
   "outputs": [
    {
     "name": "stdout",
     "output_type": "stream",
     "text": [
      "Accuracy Scores:\n",
      "Training Accuracy:0.9151360544217687\n",
      "Validation Accuracy:0.905328798185941\n",
      "\n",
      "Cross Validation Accuracy: 0.9069047619047619\n"
     ]
    },
    {
     "data": {
      "image/png": "[encoded data removed]",
      "text/plain": [
       "<Figure size 720x576 with 2 Axes>"
      ]
     },
     "metadata": {
      "needs_background": "light"
     },
     "output_type": "display_data"
    }
   ],
   "source": [
    "# Train and evaluate model\n",
    "classify_digits(lin_clf, X_train, y_train, X_val, y_val, 2000, {\"estimator__alpha\":[0.01,0.001]})"
   ]
  },
  {
   "cell_type": "markdown",
   "id": "d16d89af",
   "metadata": {},
   "source": [
    "Sweet. we are ready to accomplish all the work we have done so far with just a few lines of code. Lets continue the momentum and look at the performance of more advanced ml models such as svm, logistic regression, decision tree (ensemle), and XGBoost next."
   ]
  }
 ],
 "metadata": {
  "kernelspec": {
   "display_name": "Python 3",
   "language": "python",
   "name": "python3"
  },
  "language_info": {
   "codemirror_mode": {
    "name": "ipython",
    "version": 3
   },
   "file_extension": ".py",
   "mimetype": "text/x-python",
   "name": "python",
   "nbconvert_exporter": "python",
   "pygments_lexer": "ipython3",
   "version": "3.8.11"
  }
 },
 "nbformat": 4,
 "nbformat_minor": 5
}
